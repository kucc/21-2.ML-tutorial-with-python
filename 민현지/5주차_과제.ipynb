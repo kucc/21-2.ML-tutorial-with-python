{
 "cells": [
  {
   "cell_type": "code",
   "execution_count": 1,
   "id": "scheduled-interpretation",
   "metadata": {},
   "outputs": [
    {
     "data": {
      "text/html": [
       "<div>\n",
       "<style scoped>\n",
       "    .dataframe tbody tr th:only-of-type {\n",
       "        vertical-align: middle;\n",
       "    }\n",
       "\n",
       "    .dataframe tbody tr th {\n",
       "        vertical-align: top;\n",
       "    }\n",
       "\n",
       "    .dataframe thead th {\n",
       "        text-align: right;\n",
       "    }\n",
       "</style>\n",
       "<table border=\"1\" class=\"dataframe\">\n",
       "  <thead>\n",
       "    <tr style=\"text-align: right;\">\n",
       "      <th></th>\n",
       "      <th>Id</th>\n",
       "      <th>MSSubClass</th>\n",
       "      <th>MSZoning</th>\n",
       "      <th>LotFrontage</th>\n",
       "      <th>LotArea</th>\n",
       "      <th>Street</th>\n",
       "      <th>Alley</th>\n",
       "      <th>LotShape</th>\n",
       "      <th>LandContour</th>\n",
       "      <th>Utilities</th>\n",
       "      <th>...</th>\n",
       "      <th>PoolArea</th>\n",
       "      <th>PoolQC</th>\n",
       "      <th>Fence</th>\n",
       "      <th>MiscFeature</th>\n",
       "      <th>MiscVal</th>\n",
       "      <th>MoSold</th>\n",
       "      <th>YrSold</th>\n",
       "      <th>SaleType</th>\n",
       "      <th>SaleCondition</th>\n",
       "      <th>SalePrice</th>\n",
       "    </tr>\n",
       "  </thead>\n",
       "  <tbody>\n",
       "    <tr>\n",
       "      <th>0</th>\n",
       "      <td>1</td>\n",
       "      <td>60</td>\n",
       "      <td>RL</td>\n",
       "      <td>65.0</td>\n",
       "      <td>8450</td>\n",
       "      <td>Pave</td>\n",
       "      <td>NaN</td>\n",
       "      <td>Reg</td>\n",
       "      <td>Lvl</td>\n",
       "      <td>AllPub</td>\n",
       "      <td>...</td>\n",
       "      <td>0</td>\n",
       "      <td>NaN</td>\n",
       "      <td>NaN</td>\n",
       "      <td>NaN</td>\n",
       "      <td>0</td>\n",
       "      <td>2</td>\n",
       "      <td>2008</td>\n",
       "      <td>WD</td>\n",
       "      <td>Normal</td>\n",
       "      <td>208500.0</td>\n",
       "    </tr>\n",
       "    <tr>\n",
       "      <th>1</th>\n",
       "      <td>2</td>\n",
       "      <td>20</td>\n",
       "      <td>RL</td>\n",
       "      <td>80.0</td>\n",
       "      <td>9600</td>\n",
       "      <td>Pave</td>\n",
       "      <td>NaN</td>\n",
       "      <td>Reg</td>\n",
       "      <td>Lvl</td>\n",
       "      <td>AllPub</td>\n",
       "      <td>...</td>\n",
       "      <td>0</td>\n",
       "      <td>NaN</td>\n",
       "      <td>NaN</td>\n",
       "      <td>NaN</td>\n",
       "      <td>0</td>\n",
       "      <td>5</td>\n",
       "      <td>2007</td>\n",
       "      <td>WD</td>\n",
       "      <td>Normal</td>\n",
       "      <td>181500.0</td>\n",
       "    </tr>\n",
       "    <tr>\n",
       "      <th>2</th>\n",
       "      <td>3</td>\n",
       "      <td>60</td>\n",
       "      <td>RL</td>\n",
       "      <td>68.0</td>\n",
       "      <td>11250</td>\n",
       "      <td>Pave</td>\n",
       "      <td>NaN</td>\n",
       "      <td>IR1</td>\n",
       "      <td>Lvl</td>\n",
       "      <td>AllPub</td>\n",
       "      <td>...</td>\n",
       "      <td>0</td>\n",
       "      <td>NaN</td>\n",
       "      <td>NaN</td>\n",
       "      <td>NaN</td>\n",
       "      <td>0</td>\n",
       "      <td>9</td>\n",
       "      <td>2008</td>\n",
       "      <td>WD</td>\n",
       "      <td>Normal</td>\n",
       "      <td>223500.0</td>\n",
       "    </tr>\n",
       "  </tbody>\n",
       "</table>\n",
       "<p>3 rows × 81 columns</p>\n",
       "</div>"
      ],
      "text/plain": [
       "   Id  MSSubClass MSZoning  LotFrontage  LotArea Street Alley LotShape  \\\n",
       "0   1          60       RL         65.0     8450   Pave   NaN      Reg   \n",
       "1   2          20       RL         80.0     9600   Pave   NaN      Reg   \n",
       "2   3          60       RL         68.0    11250   Pave   NaN      IR1   \n",
       "\n",
       "  LandContour Utilities  ... PoolArea PoolQC Fence MiscFeature MiscVal MoSold  \\\n",
       "0         Lvl    AllPub  ...        0    NaN   NaN         NaN       0      2   \n",
       "1         Lvl    AllPub  ...        0    NaN   NaN         NaN       0      5   \n",
       "2         Lvl    AllPub  ...        0    NaN   NaN         NaN       0      9   \n",
       "\n",
       "  YrSold  SaleType  SaleCondition  SalePrice  \n",
       "0   2008        WD         Normal   208500.0  \n",
       "1   2007        WD         Normal   181500.0  \n",
       "2   2008        WD         Normal   223500.0  \n",
       "\n",
       "[3 rows x 81 columns]"
      ]
     },
     "execution_count": 1,
     "metadata": {},
     "output_type": "execute_result"
    }
   ],
   "source": [
    "import warnings\n",
    "warnings.filterwarnings('ignore')\n",
    "import pandas as pd\n",
    "import numpy as np\n",
    "import seaborn as sns\n",
    "import matplotlib.pyplot as plt\n",
    "%matplotlib inline\n",
    "\n",
    "house_df_train_org = pd.read_csv('house_price_train.csv')\n",
    "house_df_test_org = pd.read_csv('house_price_test.csv')\n",
    "house_df_org = pd.concat([house_df_train_org,house_df_test_org])\n",
    "house_df = house_df_org.copy()\n",
    "house_df.head(3)"
   ]
  },
  {
   "cell_type": "code",
   "execution_count": 2,
   "id": "cubic-highland",
   "metadata": {},
   "outputs": [
    {
     "name": "stdout",
     "output_type": "stream",
     "text": [
      "(2919, 290)\n"
     ]
    }
   ],
   "source": [
    "house_df_ohe = pd.get_dummies(house_df)\n",
    "print(house_df_ohe.shape)"
   ]
  },
  {
   "cell_type": "code",
   "execution_count": 3,
   "id": "blocked-lyric",
   "metadata": {},
   "outputs": [],
   "source": [
    "def get_rmse(model):\n",
    "    pred = model.predict(X_test)\n",
    "    mse = mean_squared_error(y_test , pred)\n",
    "    rmse = np.sqrt(mse)\n",
    "    print('{0} 로그 변환된 RMSE: {1}'.format(model.__class__.__name__,np.round(rmse, 3)))\n",
    "    return rmse\n",
    "\n",
    "def get_rmses(models):\n",
    "    rmses = [ ]\n",
    "    for model in models:\n",
    "        rmse = get_rmse(model)\n",
    "        rmses.append(rmse)\n",
    "    return rmses"
   ]
  },
  {
   "cell_type": "markdown",
   "id": "mature-sheep",
   "metadata": {},
   "source": [
    "## EDA"
   ]
  },
  {
   "cell_type": "code",
   "execution_count": 4,
   "id": "564bf3aa",
   "metadata": {},
   "outputs": [
    {
     "name": "stdout",
     "output_type": "stream",
     "text": [
      "<class 'pandas.core.frame.DataFrame'>\n",
      "Int64Index: 2919 entries, 0 to 1458\n",
      "Data columns (total 81 columns):\n",
      " #   Column         Non-Null Count  Dtype  \n",
      "---  ------         --------------  -----  \n",
      " 0   Id             2919 non-null   int64  \n",
      " 1   MSSubClass     2919 non-null   int64  \n",
      " 2   MSZoning       2915 non-null   object \n",
      " 3   LotFrontage    2433 non-null   float64\n",
      " 4   LotArea        2919 non-null   int64  \n",
      " 5   Street         2919 non-null   object \n",
      " 6   Alley          198 non-null    object \n",
      " 7   LotShape       2919 non-null   object \n",
      " 8   LandContour    2919 non-null   object \n",
      " 9   Utilities      2917 non-null   object \n",
      " 10  LotConfig      2919 non-null   object \n",
      " 11  LandSlope      2919 non-null   object \n",
      " 12  Neighborhood   2919 non-null   object \n",
      " 13  Condition1     2919 non-null   object \n",
      " 14  Condition2     2919 non-null   object \n",
      " 15  BldgType       2919 non-null   object \n",
      " 16  HouseStyle     2919 non-null   object \n",
      " 17  OverallQual    2919 non-null   int64  \n",
      " 18  OverallCond    2919 non-null   int64  \n",
      " 19  YearBuilt      2919 non-null   int64  \n",
      " 20  YearRemodAdd   2919 non-null   int64  \n",
      " 21  RoofStyle      2919 non-null   object \n",
      " 22  RoofMatl       2919 non-null   object \n",
      " 23  Exterior1st    2918 non-null   object \n",
      " 24  Exterior2nd    2918 non-null   object \n",
      " 25  MasVnrType     2895 non-null   object \n",
      " 26  MasVnrArea     2896 non-null   float64\n",
      " 27  ExterQual      2919 non-null   object \n",
      " 28  ExterCond      2919 non-null   object \n",
      " 29  Foundation     2919 non-null   object \n",
      " 30  BsmtQual       2838 non-null   object \n",
      " 31  BsmtCond       2837 non-null   object \n",
      " 32  BsmtExposure   2837 non-null   object \n",
      " 33  BsmtFinType1   2840 non-null   object \n",
      " 34  BsmtFinSF1     2918 non-null   float64\n",
      " 35  BsmtFinType2   2839 non-null   object \n",
      " 36  BsmtFinSF2     2918 non-null   float64\n",
      " 37  BsmtUnfSF      2918 non-null   float64\n",
      " 38  TotalBsmtSF    2918 non-null   float64\n",
      " 39  Heating        2919 non-null   object \n",
      " 40  HeatingQC      2919 non-null   object \n",
      " 41  CentralAir     2919 non-null   object \n",
      " 42  Electrical     2918 non-null   object \n",
      " 43  1stFlrSF       2919 non-null   int64  \n",
      " 44  2ndFlrSF       2919 non-null   int64  \n",
      " 45  LowQualFinSF   2919 non-null   int64  \n",
      " 46  GrLivArea      2919 non-null   int64  \n",
      " 47  BsmtFullBath   2917 non-null   float64\n",
      " 48  BsmtHalfBath   2917 non-null   float64\n",
      " 49  FullBath       2919 non-null   int64  \n",
      " 50  HalfBath       2919 non-null   int64  \n",
      " 51  BedroomAbvGr   2919 non-null   int64  \n",
      " 52  KitchenAbvGr   2919 non-null   int64  \n",
      " 53  KitchenQual    2918 non-null   object \n",
      " 54  TotRmsAbvGrd   2919 non-null   int64  \n",
      " 55  Functional     2917 non-null   object \n",
      " 56  Fireplaces     2919 non-null   int64  \n",
      " 57  FireplaceQu    1499 non-null   object \n",
      " 58  GarageType     2762 non-null   object \n",
      " 59  GarageYrBlt    2760 non-null   float64\n",
      " 60  GarageFinish   2760 non-null   object \n",
      " 61  GarageCars     2918 non-null   float64\n",
      " 62  GarageArea     2918 non-null   float64\n",
      " 63  GarageQual     2760 non-null   object \n",
      " 64  GarageCond     2760 non-null   object \n",
      " 65  PavedDrive     2919 non-null   object \n",
      " 66  WoodDeckSF     2919 non-null   int64  \n",
      " 67  OpenPorchSF    2919 non-null   int64  \n",
      " 68  EnclosedPorch  2919 non-null   int64  \n",
      " 69  3SsnPorch      2919 non-null   int64  \n",
      " 70  ScreenPorch    2919 non-null   int64  \n",
      " 71  PoolArea       2919 non-null   int64  \n",
      " 72  PoolQC         10 non-null     object \n",
      " 73  Fence          571 non-null    object \n",
      " 74  MiscFeature    105 non-null    object \n",
      " 75  MiscVal        2919 non-null   int64  \n",
      " 76  MoSold         2919 non-null   int64  \n",
      " 77  YrSold         2919 non-null   int64  \n",
      " 78  SaleType       2918 non-null   object \n",
      " 79  SaleCondition  2919 non-null   object \n",
      " 80  SalePrice      1460 non-null   float64\n",
      "dtypes: float64(12), int64(26), object(43)\n",
      "memory usage: 1.8+ MB\n"
     ]
    }
   ],
   "source": [
    "house_df.info()"
   ]
  },
  {
   "cell_type": "code",
   "execution_count": 5,
   "id": "86af71c1",
   "metadata": {},
   "outputs": [
    {
     "name": "stdout",
     "output_type": "stream",
     "text": [
      "PoolQC          2909\n",
      "MiscFeature     2814\n",
      "Alley           2721\n",
      "Fence           2348\n",
      "SalePrice       1459\n",
      "FireplaceQu     1420\n",
      "LotFrontage      486\n",
      "GarageCond       159\n",
      "GarageYrBlt      159\n",
      "GarageFinish     159\n",
      "GarageQual       159\n",
      "GarageType       157\n",
      "BsmtExposure      82\n",
      "BsmtCond          82\n",
      "BsmtQual          81\n",
      "BsmtFinType2      80\n",
      "BsmtFinType1      79\n",
      "MasVnrType        24\n",
      "MasVnrArea        23\n",
      "MSZoning           4\n",
      "Functional         2\n",
      "BsmtHalfBath       2\n",
      "BsmtFullBath       2\n",
      "Utilities          2\n",
      "KitchenQual        1\n",
      "TotalBsmtSF        1\n",
      "BsmtUnfSF          1\n",
      "GarageCars         1\n",
      "GarageArea         1\n",
      "BsmtFinSF2         1\n",
      "BsmtFinSF1         1\n",
      "Exterior2nd        1\n",
      "Exterior1st        1\n",
      "SaleType           1\n",
      "Electrical         1\n",
      "dtype: int64\n"
     ]
    }
   ],
   "source": [
    "isnull_series = house_df.isnull().sum()\n",
    "print(isnull_series[isnull_series > 0].sort_values(ascending=False))"
   ]
  },
  {
   "cell_type": "code",
   "execution_count": 6,
   "id": "6ae8cc45",
   "metadata": {},
   "outputs": [
    {
     "name": "stdout",
     "output_type": "stream",
     "text": [
      "GarageCond      159\n",
      "GarageQual      159\n",
      "GarageFinish    159\n",
      "GarageType      157\n",
      "BsmtCond         82\n",
      "BsmtExposure     82\n",
      "BsmtQual         81\n",
      "BsmtFinType2     80\n",
      "BsmtFinType1     79\n",
      "MasVnrType       24\n",
      "MSZoning          4\n",
      "Functional        2\n",
      "Utilities         2\n",
      "KitchenQual       1\n",
      "Electrical        1\n",
      "Exterior2nd       1\n",
      "Exterior1st       1\n",
      "SaleType          1\n",
      "dtype: int64\n"
     ]
    }
   ],
   "source": [
    "#Null이 너무 많은 칼럼과 불필요한 칼럼 삭제\n",
    "house_df.drop(['Id', 'PoolQC', 'MiscFeature', 'Alley', 'Fence', 'FireplaceQu'], axis=1, inplace=True)\n",
    "\n",
    "\n",
    "#드롭하지 않은 숫자형 Null 칼럼은 평균값으로 대체\n",
    "house_df.fillna(house_df.mean(), inplace=True)\n",
    "\n",
    "isnull_series = house_df.isnull().sum()\n",
    "print(isnull_series[isnull_series > 0].sort_values(ascending=False))"
   ]
  },
  {
   "cell_type": "code",
   "execution_count": 7,
   "id": "b019f19a",
   "metadata": {},
   "outputs": [
    {
     "data": {
      "text/plain": [
       "<AxesSubplot:xlabel='SalePrice'>"
      ]
     },
     "execution_count": 7,
     "metadata": {},
     "output_type": "execute_result"
    },
    {
     "data": {
      "image/png": "[encoded data removed]",
      "text/plain": [
       "<Figure size 432x288 with 1 Axes>"
      ]
     },
     "metadata": {
      "needs_background": "light"
     },
     "output_type": "display_data"
    }
   ],
   "source": [
    "sns.distplot(house_df['SalePrice'])"
   ]
  },
  {
   "cell_type": "code",
   "execution_count": 8,
   "id": "40ad28f7",
   "metadata": {},
   "outputs": [
    {
     "data": {
      "text/plain": [
       "<AxesSubplot:xlabel='SalePrice'>"
      ]
     },
     "execution_count": 8,
     "metadata": {},
     "output_type": "execute_result"
    },
    {
     "data": {
      "image/png": "[encoded data removed]",
      "text/plain": [
       "<Figure size 432x288 with 1 Axes>"
      ]
     },
     "metadata": {
      "needs_background": "light"
     },
     "output_type": "display_data"
    }
   ],
   "source": [
    "log_SalePrice = np.log1p(house_df['SalePrice'])\n",
    "sns.distplot(log_SalePrice)"
   ]
  },
  {
   "cell_type": "code",
   "execution_count": 9,
   "id": "83b55ae7",
   "metadata": {},
   "outputs": [],
   "source": [
    "#SalePrice 로그 변환\n",
    "house_df['SalePrice'] = np.log1p(house_df['SalePrice'])"
   ]
  },
  {
   "cell_type": "code",
   "execution_count": 10,
   "id": "f0f6014a",
   "metadata": {},
   "outputs": [
    {
     "name": "stdout",
     "output_type": "stream",
     "text": [
      "Series([], dtype: int64)\n"
     ]
    }
   ],
   "source": [
    "house_df_ohe = pd.get_dummies(house_df)\n",
    "\n",
    "isnull_series = house_df_ohe.isnull().sum()\n",
    "print(isnull_series[isnull_series > 0].sort_values(ascending=False))"
   ]
  },
  {
   "cell_type": "code",
   "execution_count": 11,
   "id": "fd55ed6e",
   "metadata": {},
   "outputs": [
    {
     "data": {
      "text/html": [
       "<div>\n",
       "<style scoped>\n",
       "    .dataframe tbody tr th:only-of-type {\n",
       "        vertical-align: middle;\n",
       "    }\n",
       "\n",
       "    .dataframe tbody tr th {\n",
       "        vertical-align: top;\n",
       "    }\n",
       "\n",
       "    .dataframe thead th {\n",
       "        text-align: right;\n",
       "    }\n",
       "</style>\n",
       "<table border=\"1\" class=\"dataframe\">\n",
       "  <thead>\n",
       "    <tr style=\"text-align: right;\">\n",
       "      <th></th>\n",
       "      <th>MSSubClass</th>\n",
       "      <th>LotFrontage</th>\n",
       "      <th>LotArea</th>\n",
       "      <th>OverallQual</th>\n",
       "      <th>OverallCond</th>\n",
       "      <th>YearBuilt</th>\n",
       "      <th>YearRemodAdd</th>\n",
       "      <th>MasVnrArea</th>\n",
       "      <th>BsmtFinSF1</th>\n",
       "      <th>BsmtFinSF2</th>\n",
       "      <th>...</th>\n",
       "      <th>SaleType_ConLw</th>\n",
       "      <th>SaleType_New</th>\n",
       "      <th>SaleType_Oth</th>\n",
       "      <th>SaleType_WD</th>\n",
       "      <th>SaleCondition_Abnorml</th>\n",
       "      <th>SaleCondition_AdjLand</th>\n",
       "      <th>SaleCondition_Alloca</th>\n",
       "      <th>SaleCondition_Family</th>\n",
       "      <th>SaleCondition_Normal</th>\n",
       "      <th>SaleCondition_Partial</th>\n",
       "    </tr>\n",
       "  </thead>\n",
       "  <tbody>\n",
       "    <tr>\n",
       "      <th>MSSubClass</th>\n",
       "      <td>1.000000</td>\n",
       "      <td>-0.390118</td>\n",
       "      <td>-0.201730</td>\n",
       "      <td>0.033638</td>\n",
       "      <td>-0.065625</td>\n",
       "      <td>0.034409</td>\n",
       "      <td>0.043315</td>\n",
       "      <td>0.005422</td>\n",
       "      <td>-0.064302</td>\n",
       "      <td>-0.072520</td>\n",
       "      <td>...</td>\n",
       "      <td>0.001218</td>\n",
       "      <td>-0.040736</td>\n",
       "      <td>-0.018118</td>\n",
       "      <td>0.039911</td>\n",
       "      <td>0.003719</td>\n",
       "      <td>0.011253</td>\n",
       "      <td>0.037366</td>\n",
       "      <td>-0.023187</td>\n",
       "      <td>0.027341</td>\n",
       "      <td>-0.045302</td>\n",
       "    </tr>\n",
       "    <tr>\n",
       "      <th>LotFrontage</th>\n",
       "      <td>-0.390118</td>\n",
       "      <td>1.000000</td>\n",
       "      <td>0.364382</td>\n",
       "      <td>0.204190</td>\n",
       "      <td>-0.068350</td>\n",
       "      <td>0.116905</td>\n",
       "      <td>0.085608</td>\n",
       "      <td>0.202210</td>\n",
       "      <td>0.203603</td>\n",
       "      <td>0.041396</td>\n",
       "      <td>...</td>\n",
       "      <td>-0.041038</td>\n",
       "      <td>0.114645</td>\n",
       "      <td>-0.003890</td>\n",
       "      <td>-0.084007</td>\n",
       "      <td>0.002206</td>\n",
       "      <td>-0.046903</td>\n",
       "      <td>0.007403</td>\n",
       "      <td>0.015590</td>\n",
       "      <td>-0.082070</td>\n",
       "      <td>0.112441</td>\n",
       "    </tr>\n",
       "    <tr>\n",
       "      <th>LotArea</th>\n",
       "      <td>-0.201730</td>\n",
       "      <td>0.364382</td>\n",
       "      <td>1.000000</td>\n",
       "      <td>0.100541</td>\n",
       "      <td>-0.035617</td>\n",
       "      <td>0.024128</td>\n",
       "      <td>0.021612</td>\n",
       "      <td>0.125354</td>\n",
       "      <td>0.194021</td>\n",
       "      <td>0.084055</td>\n",
       "      <td>...</td>\n",
       "      <td>-0.015732</td>\n",
       "      <td>0.031601</td>\n",
       "      <td>-0.004067</td>\n",
       "      <td>-0.014035</td>\n",
       "      <td>-0.014771</td>\n",
       "      <td>-0.020429</td>\n",
       "      <td>0.024241</td>\n",
       "      <td>0.017927</td>\n",
       "      <td>-0.022898</td>\n",
       "      <td>0.033434</td>\n",
       "    </tr>\n",
       "    <tr>\n",
       "      <th>OverallQual</th>\n",
       "      <td>0.033638</td>\n",
       "      <td>0.204190</td>\n",
       "      <td>0.100541</td>\n",
       "      <td>1.000000</td>\n",
       "      <td>-0.093847</td>\n",
       "      <td>0.597554</td>\n",
       "      <td>0.571532</td>\n",
       "      <td>0.430961</td>\n",
       "      <td>0.281704</td>\n",
       "      <td>-0.042755</td>\n",
       "      <td>...</td>\n",
       "      <td>-0.045148</td>\n",
       "      <td>0.338330</td>\n",
       "      <td>-0.052783</td>\n",
       "      <td>-0.194091</td>\n",
       "      <td>-0.127006</td>\n",
       "      <td>-0.049636</td>\n",
       "      <td>-0.040738</td>\n",
       "      <td>-0.023605</td>\n",
       "      <td>-0.134282</td>\n",
       "      <td>0.333192</td>\n",
       "    </tr>\n",
       "    <tr>\n",
       "      <th>OverallCond</th>\n",
       "      <td>-0.065625</td>\n",
       "      <td>-0.068350</td>\n",
       "      <td>-0.035617</td>\n",
       "      <td>-0.093847</td>\n",
       "      <td>1.000000</td>\n",
       "      <td>-0.368477</td>\n",
       "      <td>0.047654</td>\n",
       "      <td>-0.135752</td>\n",
       "      <td>-0.050403</td>\n",
       "      <td>0.041489</td>\n",
       "      <td>...</td>\n",
       "      <td>-0.014818</td>\n",
       "      <td>-0.148122</td>\n",
       "      <td>-0.018578</td>\n",
       "      <td>0.162551</td>\n",
       "      <td>-0.060231</td>\n",
       "      <td>-0.051836</td>\n",
       "      <td>-0.025736</td>\n",
       "      <td>-0.032058</td>\n",
       "      <td>0.168425</td>\n",
       "      <td>-0.143560</td>\n",
       "    </tr>\n",
       "    <tr>\n",
       "      <th>...</th>\n",
       "      <td>...</td>\n",
       "      <td>...</td>\n",
       "      <td>...</td>\n",
       "      <td>...</td>\n",
       "      <td>...</td>\n",
       "      <td>...</td>\n",
       "      <td>...</td>\n",
       "      <td>...</td>\n",
       "      <td>...</td>\n",
       "      <td>...</td>\n",
       "      <td>...</td>\n",
       "      <td>...</td>\n",
       "      <td>...</td>\n",
       "      <td>...</td>\n",
       "      <td>...</td>\n",
       "      <td>...</td>\n",
       "      <td>...</td>\n",
       "      <td>...</td>\n",
       "      <td>...</td>\n",
       "      <td>...</td>\n",
       "      <td>...</td>\n",
       "    </tr>\n",
       "    <tr>\n",
       "      <th>SaleCondition_AdjLand</th>\n",
       "      <td>0.011253</td>\n",
       "      <td>-0.046903</td>\n",
       "      <td>-0.020429</td>\n",
       "      <td>-0.049636</td>\n",
       "      <td>-0.051836</td>\n",
       "      <td>-0.077741</td>\n",
       "      <td>-0.078213</td>\n",
       "      <td>-0.018629</td>\n",
       "      <td>-0.028073</td>\n",
       "      <td>-0.018833</td>\n",
       "      <td>...</td>\n",
       "      <td>-0.003368</td>\n",
       "      <td>-0.019187</td>\n",
       "      <td>-0.003150</td>\n",
       "      <td>0.025380</td>\n",
       "      <td>-0.016953</td>\n",
       "      <td>1.000000</td>\n",
       "      <td>-0.005850</td>\n",
       "      <td>-0.008130</td>\n",
       "      <td>-0.138487</td>\n",
       "      <td>-0.019448</td>\n",
       "    </tr>\n",
       "    <tr>\n",
       "      <th>SaleCondition_Alloca</th>\n",
       "      <td>0.037366</td>\n",
       "      <td>0.007403</td>\n",
       "      <td>0.024241</td>\n",
       "      <td>-0.040738</td>\n",
       "      <td>-0.025736</td>\n",
       "      <td>-0.025116</td>\n",
       "      <td>-0.034022</td>\n",
       "      <td>-0.017984</td>\n",
       "      <td>0.026104</td>\n",
       "      <td>-0.026690</td>\n",
       "      <td>...</td>\n",
       "      <td>-0.004773</td>\n",
       "      <td>-0.027190</td>\n",
       "      <td>-0.004464</td>\n",
       "      <td>0.035967</td>\n",
       "      <td>-0.024025</td>\n",
       "      <td>-0.005850</td>\n",
       "      <td>1.000000</td>\n",
       "      <td>-0.011521</td>\n",
       "      <td>-0.196256</td>\n",
       "      <td>-0.027560</td>\n",
       "    </tr>\n",
       "    <tr>\n",
       "      <th>SaleCondition_Family</th>\n",
       "      <td>-0.023187</td>\n",
       "      <td>0.015590</td>\n",
       "      <td>0.017927</td>\n",
       "      <td>-0.023605</td>\n",
       "      <td>-0.032058</td>\n",
       "      <td>-0.036093</td>\n",
       "      <td>-0.049794</td>\n",
       "      <td>-0.017978</td>\n",
       "      <td>-0.026233</td>\n",
       "      <td>-0.001997</td>\n",
       "      <td>...</td>\n",
       "      <td>0.045983</td>\n",
       "      <td>-0.037787</td>\n",
       "      <td>0.050036</td>\n",
       "      <td>-0.014418</td>\n",
       "      <td>-0.033388</td>\n",
       "      <td>-0.008130</td>\n",
       "      <td>-0.011521</td>\n",
       "      <td>1.000000</td>\n",
       "      <td>-0.272742</td>\n",
       "      <td>-0.038301</td>\n",
       "    </tr>\n",
       "    <tr>\n",
       "      <th>SaleCondition_Normal</th>\n",
       "      <td>0.027341</td>\n",
       "      <td>-0.082070</td>\n",
       "      <td>-0.022898</td>\n",
       "      <td>-0.134282</td>\n",
       "      <td>0.168425</td>\n",
       "      <td>-0.137934</td>\n",
       "      <td>-0.102889</td>\n",
       "      <td>-0.069411</td>\n",
       "      <td>-0.017694</td>\n",
       "      <td>0.068774</td>\n",
       "      <td>...</td>\n",
       "      <td>0.007156</td>\n",
       "      <td>-0.643684</td>\n",
       "      <td>-0.087334</td>\n",
       "      <td>0.620346</td>\n",
       "      <td>-0.568743</td>\n",
       "      <td>-0.138487</td>\n",
       "      <td>-0.196256</td>\n",
       "      <td>-0.272742</td>\n",
       "      <td>1.000000</td>\n",
       "      <td>-0.652444</td>\n",
       "    </tr>\n",
       "    <tr>\n",
       "      <th>SaleCondition_Partial</th>\n",
       "      <td>-0.045302</td>\n",
       "      <td>0.112441</td>\n",
       "      <td>0.033434</td>\n",
       "      <td>0.333192</td>\n",
       "      <td>-0.143560</td>\n",
       "      <td>0.339458</td>\n",
       "      <td>0.323272</td>\n",
       "      <td>0.151644</td>\n",
       "      <td>0.045017</td>\n",
       "      <td>-0.087494</td>\n",
       "      <td>...</td>\n",
       "      <td>-0.015868</td>\n",
       "      <td>0.986573</td>\n",
       "      <td>-0.014841</td>\n",
       "      <td>-0.751813</td>\n",
       "      <td>-0.079869</td>\n",
       "      <td>-0.019448</td>\n",
       "      <td>-0.027560</td>\n",
       "      <td>-0.038301</td>\n",
       "      <td>-0.652444</td>\n",
       "      <td>1.000000</td>\n",
       "    </tr>\n",
       "  </tbody>\n",
       "</table>\n",
       "<p>271 rows × 271 columns</p>\n",
       "</div>"
      ],
      "text/plain": [
       "                       MSSubClass  LotFrontage   LotArea  OverallQual  \\\n",
       "MSSubClass               1.000000    -0.390118 -0.201730     0.033638   \n",
       "LotFrontage             -0.390118     1.000000  0.364382     0.204190   \n",
       "LotArea                 -0.201730     0.364382  1.000000     0.100541   \n",
       "OverallQual              0.033638     0.204190  0.100541     1.000000   \n",
       "OverallCond             -0.065625    -0.068350 -0.035617    -0.093847   \n",
       "...                           ...          ...       ...          ...   \n",
       "SaleCondition_AdjLand    0.011253    -0.046903 -0.020429    -0.049636   \n",
       "SaleCondition_Alloca     0.037366     0.007403  0.024241    -0.040738   \n",
       "SaleCondition_Family    -0.023187     0.015590  0.017927    -0.023605   \n",
       "SaleCondition_Normal     0.027341    -0.082070 -0.022898    -0.134282   \n",
       "SaleCondition_Partial   -0.045302     0.112441  0.033434     0.333192   \n",
       "\n",
       "                       OverallCond  YearBuilt  YearRemodAdd  MasVnrArea  \\\n",
       "MSSubClass               -0.065625   0.034409      0.043315    0.005422   \n",
       "LotFrontage              -0.068350   0.116905      0.085608    0.202210   \n",
       "LotArea                  -0.035617   0.024128      0.021612    0.125354   \n",
       "OverallQual              -0.093847   0.597554      0.571532    0.430961   \n",
       "OverallCond               1.000000  -0.368477      0.047654   -0.135752   \n",
       "...                            ...        ...           ...         ...   \n",
       "SaleCondition_AdjLand    -0.051836  -0.077741     -0.078213   -0.018629   \n",
       "SaleCondition_Alloca     -0.025736  -0.025116     -0.034022   -0.017984   \n",
       "SaleCondition_Family     -0.032058  -0.036093     -0.049794   -0.017978   \n",
       "SaleCondition_Normal      0.168425  -0.137934     -0.102889   -0.069411   \n",
       "SaleCondition_Partial    -0.143560   0.339458      0.323272    0.151644   \n",
       "\n",
       "                       BsmtFinSF1  BsmtFinSF2  ...  SaleType_ConLw  \\\n",
       "MSSubClass              -0.064302   -0.072520  ...        0.001218   \n",
       "LotFrontage              0.203603    0.041396  ...       -0.041038   \n",
       "LotArea                  0.194021    0.084055  ...       -0.015732   \n",
       "OverallQual              0.281704   -0.042755  ...       -0.045148   \n",
       "OverallCond             -0.050403    0.041489  ...       -0.014818   \n",
       "...                           ...         ...  ...             ...   \n",
       "SaleCondition_AdjLand   -0.028073   -0.018833  ...       -0.003368   \n",
       "SaleCondition_Alloca     0.026104   -0.026690  ...       -0.004773   \n",
       "SaleCondition_Family    -0.026233   -0.001997  ...        0.045983   \n",
       "SaleCondition_Normal    -0.017694    0.068774  ...        0.007156   \n",
       "SaleCondition_Partial    0.045017   -0.087494  ...       -0.015868   \n",
       "\n",
       "                       SaleType_New  SaleType_Oth  SaleType_WD  \\\n",
       "MSSubClass                -0.040736     -0.018118     0.039911   \n",
       "LotFrontage                0.114645     -0.003890    -0.084007   \n",
       "LotArea                    0.031601     -0.004067    -0.014035   \n",
       "OverallQual                0.338330     -0.052783    -0.194091   \n",
       "OverallCond               -0.148122     -0.018578     0.162551   \n",
       "...                             ...           ...          ...   \n",
       "SaleCondition_AdjLand     -0.019187     -0.003150     0.025380   \n",
       "SaleCondition_Alloca      -0.027190     -0.004464     0.035967   \n",
       "SaleCondition_Family      -0.037787      0.050036    -0.014418   \n",
       "SaleCondition_Normal      -0.643684     -0.087334     0.620346   \n",
       "SaleCondition_Partial      0.986573     -0.014841    -0.751813   \n",
       "\n",
       "                       SaleCondition_Abnorml  SaleCondition_AdjLand  \\\n",
       "MSSubClass                          0.003719               0.011253   \n",
       "LotFrontage                         0.002206              -0.046903   \n",
       "LotArea                            -0.014771              -0.020429   \n",
       "OverallQual                        -0.127006              -0.049636   \n",
       "OverallCond                        -0.060231              -0.051836   \n",
       "...                                      ...                    ...   \n",
       "SaleCondition_AdjLand              -0.016953               1.000000   \n",
       "SaleCondition_Alloca               -0.024025              -0.005850   \n",
       "SaleCondition_Family               -0.033388              -0.008130   \n",
       "SaleCondition_Normal               -0.568743              -0.138487   \n",
       "SaleCondition_Partial              -0.079869              -0.019448   \n",
       "\n",
       "                       SaleCondition_Alloca  SaleCondition_Family  \\\n",
       "MSSubClass                         0.037366             -0.023187   \n",
       "LotFrontage                        0.007403              0.015590   \n",
       "LotArea                            0.024241              0.017927   \n",
       "OverallQual                       -0.040738             -0.023605   \n",
       "OverallCond                       -0.025736             -0.032058   \n",
       "...                                     ...                   ...   \n",
       "SaleCondition_AdjLand             -0.005850             -0.008130   \n",
       "SaleCondition_Alloca               1.000000             -0.011521   \n",
       "SaleCondition_Family              -0.011521              1.000000   \n",
       "SaleCondition_Normal              -0.196256             -0.272742   \n",
       "SaleCondition_Partial             -0.027560             -0.038301   \n",
       "\n",
       "                       SaleCondition_Normal  SaleCondition_Partial  \n",
       "MSSubClass                         0.027341              -0.045302  \n",
       "LotFrontage                       -0.082070               0.112441  \n",
       "LotArea                           -0.022898               0.033434  \n",
       "OverallQual                       -0.134282               0.333192  \n",
       "OverallCond                        0.168425              -0.143560  \n",
       "...                                     ...                    ...  \n",
       "SaleCondition_AdjLand             -0.138487              -0.019448  \n",
       "SaleCondition_Alloca              -0.196256              -0.027560  \n",
       "SaleCondition_Family              -0.272742              -0.038301  \n",
       "SaleCondition_Normal               1.000000              -0.652444  \n",
       "SaleCondition_Partial             -0.652444               1.000000  \n",
       "\n",
       "[271 rows x 271 columns]"
      ]
     },
     "execution_count": 11,
     "metadata": {},
     "output_type": "execute_result"
    }
   ],
   "source": [
    "house_df_ohe.corr()"
   ]
  },
  {
   "cell_type": "markdown",
   "id": "southern-pressure",
   "metadata": {},
   "source": [
    "## Model training"
   ]
  },
  {
   "cell_type": "code",
   "execution_count": 12,
   "id": "motivated-belief",
   "metadata": {},
   "outputs": [],
   "source": [
    "house_train = house_df_ohe[:len(house_df_train_org)]\n",
    "house_test = house_df_ohe[len(house_df_train_org):]"
   ]
  },
  {
   "cell_type": "code",
   "execution_count": 13,
   "id": "requested-scoop",
   "metadata": {},
   "outputs": [
    {
     "name": "stdout",
     "output_type": "stream",
     "text": [
      "MSE : 0.176 , RMSE : 0.420\n"
     ]
    }
   ],
   "source": [
    "from sklearn.model_selection import train_test_split\n",
    "from sklearn.linear_model import LinearRegression\n",
    "from sklearn.metrics import mean_squared_error\n",
    "\n",
    "X_train = house_train.drop(['SalePrice'],axis=1,inplace=False)\n",
    "X_test = house_test.drop(['SalePrice'],axis=1,inplace=False)\n",
    "y_train = house_train['SalePrice']\n",
    "y_test = house_test['SalePrice']\n",
    "\n",
    "# Linear Regression OLS로 학습/예측/평가 수행. \n",
    "lr = LinearRegression()\n",
    "lr.fit(X_train ,y_train )\n",
    "y_preds = lr.predict(X_test)\n",
    "mse = mean_squared_error(y_test, y_preds)\n",
    "rmse = np.sqrt(mse)\n",
    "\n",
    "print('MSE : {0:.3f} , RMSE : {1:.3F}'.format(mse , rmse))"
   ]
  },
  {
   "cell_type": "code",
   "execution_count": 14,
   "id": "59b002de",
   "metadata": {},
   "outputs": [
    {
     "name": "stdout",
     "output_type": "stream",
     "text": [
      "MSE : 0.017 , RMSE : 0.132\n"
     ]
    }
   ],
   "source": [
    "y_target = house_train['SalePrice']\n",
    "X_features = house_train.drop('SalePrice', axis=1, inplace=False)\n",
    "X_train, X_valid, y_train, y_valid = train_test_split(X_features, y_target, test_size=0.2, random_state=156)\n",
    "\n",
    "# Linear Regression OLS로 학습/예측/평가 수행. \n",
    "lr = LinearRegression()\n",
    "lr.fit(X_train ,y_train )\n",
    "y_preds = lr.predict(X_valid)\n",
    "mse = mean_squared_error(y_valid, y_preds)\n",
    "rmse = np.sqrt(mse)\n",
    "\n",
    "print('MSE : {0:.3f} , RMSE : {1:.3F}'.format(mse , rmse))"
   ]
  },
  {
   "cell_type": "code",
   "execution_count": 15,
   "id": "299d0846",
   "metadata": {},
   "outputs": [
    {
     "name": "stdout",
     "output_type": "stream",
     "text": [
      "MSE : 0.017 , RMSE : 0.129\n"
     ]
    }
   ],
   "source": [
    "y_target = house_train['SalePrice']\n",
    "X_features = house_train.drop('SalePrice', axis=1, inplace=False)\n",
    "X_train, X_valid, y_train, y_valid = train_test_split(X_features, y_target, test_size=0.3, random_state=156)\n",
    "\n",
    "# Linear Regression OLS로 학습/예측/평가 수행. \n",
    "lr = LinearRegression()\n",
    "lr.fit(X_train ,y_train )\n",
    "y_preds = lr.predict(X_valid)\n",
    "mse = mean_squared_error(y_valid, y_preds)\n",
    "rmse = np.sqrt(mse)\n",
    "\n",
    "print('MSE : {0:.3f} , RMSE : {1:.3F}'.format(mse , rmse))"
   ]
  },
  {
   "cell_type": "code",
   "execution_count": 16,
   "id": "b17c9c92",
   "metadata": {
    "scrolled": true
   },
   "outputs": [
    {
     "data": {
      "text/plain": [
       "RoofMatl_WdShngl    0.5\n",
       "RoofMatl_Roll       0.4\n",
       "RoofMatl_Metal      0.4\n",
       "RoofMatl_CompShg    0.4\n",
       "RoofMatl_WdShake    0.3\n",
       "                   ... \n",
       "Electrical_FuseP   -0.2\n",
       "MSZoning_C (all)   -0.3\n",
       "Functional_Maj2    -0.4\n",
       "Condition2_PosN    -0.7\n",
       "RoofMatl_ClyTile   -2.4\n",
       "Length: 270, dtype: float64"
      ]
     },
     "execution_count": 16,
     "metadata": {},
     "output_type": "execute_result"
    }
   ],
   "source": [
    "coeff = pd.Series(data=np.round(lr.coef_, 1), index=X_features.columns )\n",
    "coeff.sort_values(ascending=False)"
   ]
  },
  {
   "cell_type": "code",
   "execution_count": 17,
   "id": "ad44a1c7",
   "metadata": {
    "scrolled": true
   },
   "outputs": [
    {
     "name": "stdout",
     "output_type": "stream",
     "text": [
      "RoofMatl_Tar&Grv     0.009607\n",
      "Foundation_Wood      0.008912\n",
      "Condition2_RRAe      0.008571\n",
      "RoofStyle_Mansard    0.005801\n",
      "GarageCond_Gd        0.005239\n",
      "RoofMatl_Metal       0.005026\n",
      "LotConfig_FR2        0.004883\n",
      "BsmtFinSF2           0.004832\n",
      "LotConfig_Corner     0.003985\n",
      "SaleType_ConLI       0.003058\n",
      "BsmtFinType2_GLQ     0.002345\n",
      "RoofMatl_ClyTile    -0.002696\n",
      "BsmtHalfBath        -0.005149\n",
      "Name: SalePrice, dtype: float64\n"
     ]
    }
   ],
   "source": [
    "SalePrice_corr = house_train.corr()['SalePrice']\n",
    "print(SalePrice_corr[(SalePrice_corr < 0.01) & (SalePrice_corr > -0.01)].sort_values(ascending=False))"
   ]
  },
  {
   "cell_type": "code",
   "execution_count": 18,
   "id": "d8a535a0",
   "metadata": {},
   "outputs": [
    {
     "name": "stdout",
     "output_type": "stream",
     "text": [
      "MSE : 0.036 , RMSE : 0.190\n"
     ]
    }
   ],
   "source": [
    "house_train_copy = house_train.copy()\n",
    "house_train_copy.drop('RoofMatl_ClyTile', axis=1, inplace=True)\n",
    "y_target = house_train_copy['SalePrice']\n",
    "X_features = house_train_copy.drop('SalePrice', axis=1, inplace=False)\n",
    "X_train, X_valid, y_train, y_valid = train_test_split(X_features, y_target, test_size=0.3, random_state=156)\n",
    "\n",
    "# Linear Regression OLS로 학습/예측/평가 수행. \n",
    "lr = LinearRegression()\n",
    "lr.fit(X_train ,y_train )\n",
    "y_preds = lr.predict(X_valid)\n",
    "mse = mean_squared_error(y_valid, y_preds)\n",
    "rmse = np.sqrt(mse)\n",
    "\n",
    "print('MSE : {0:.3f} , RMSE : {1:.3F}'.format(mse , rmse))"
   ]
  },
  {
   "cell_type": "code",
   "execution_count": 19,
   "id": "6555f33a",
   "metadata": {},
   "outputs": [
    {
     "name": "stdout",
     "output_type": "stream",
     "text": [
      "MSE : 0.017 , RMSE : 0.129\n"
     ]
    }
   ],
   "source": [
    "house_train_copy = house_train.copy()\n",
    "house_train_copy.drop(['BsmtHalfBath', 'BsmtFinType2_GLQ','SaleType_ConLI', 'LotConfig_Corner', 'BsmtFinSF2','LotConfig_FR2'], axis=1, inplace=True)\n",
    "y_target = house_train_copy['SalePrice']\n",
    "X_features = house_train_copy.drop('SalePrice', axis=1, inplace=False)\n",
    "X_train, X_valid, y_train, y_valid = train_test_split(X_features, y_target, test_size=0.3, random_state=156)\n",
    "\n",
    "# Linear Regression OLS로 학습/예측/평가 수행. \n",
    "lr = LinearRegression()\n",
    "lr.fit(X_train ,y_train )\n",
    "y_preds = lr.predict(X_valid)\n",
    "mse = mean_squared_error(y_valid, y_preds)\n",
    "rmse = np.sqrt(mse)\n",
    "\n",
    "print('MSE : {0:.3f} , RMSE : {1:.3F}'.format(mse , rmse))"
   ]
  },
  {
   "cell_type": "code",
   "execution_count": 20,
   "id": "621abd19",
   "metadata": {},
   "outputs": [
    {
     "name": "stdout",
     "output_type": "stream",
     "text": [
      "MSE : 0.016 , RMSE : 0.126\n"
     ]
    }
   ],
   "source": [
    "house_train_copy.drop('RoofMatl_Metal', axis=1, inplace=True)\n",
    "y_target = house_train_copy['SalePrice']\n",
    "X_features = house_train_copy.drop('SalePrice', axis=1, inplace=False)\n",
    "X_train, X_valid, y_train, y_valid = train_test_split(X_features, y_target, test_size=0.3, random_state=156)\n",
    "\n",
    "# Linear Regression OLS로 학습/예측/평가 수행. \n",
    "lr = LinearRegression()\n",
    "lr.fit(X_train ,y_train )\n",
    "y_preds = lr.predict(X_valid)\n",
    "mse = mean_squared_error(y_valid, y_preds)\n",
    "rmse = np.sqrt(mse)\n",
    "\n",
    "print('MSE : {0:.3f} , RMSE : {1:.3F}'.format(mse , rmse))"
   ]
  },
  {
   "cell_type": "code",
   "execution_count": 21,
   "id": "320de918",
   "metadata": {},
   "outputs": [
    {
     "name": "stdout",
     "output_type": "stream",
     "text": [
      "MSE : 0.016 , RMSE : 0.126\n"
     ]
    }
   ],
   "source": [
    "house_train_copy.drop('GarageCond_Gd', axis=1, inplace=True)\n",
    "y_target = house_train_copy['SalePrice']\n",
    "X_features = house_train_copy.drop('SalePrice', axis=1, inplace=False)\n",
    "X_train, X_valid, y_train, y_valid = train_test_split(X_features, y_target, test_size=0.3, random_state=156)\n",
    "\n",
    "# Linear Regression OLS로 학습/예측/평가 수행. \n",
    "lr = LinearRegression()\n",
    "lr.fit(X_train ,y_train )\n",
    "y_preds = lr.predict(X_valid)\n",
    "mse = mean_squared_error(y_valid, y_preds)\n",
    "rmse = np.sqrt(mse)\n",
    "\n",
    "print('MSE : {0:.3f} , RMSE : {1:.3F}'.format(mse , rmse))"
   ]
  },
  {
   "cell_type": "code",
   "execution_count": 22,
   "id": "0e21ef72",
   "metadata": {},
   "outputs": [
    {
     "name": "stdout",
     "output_type": "stream",
     "text": [
      "MSE : 0.016 , RMSE : 0.126\n"
     ]
    }
   ],
   "source": [
    "house_train_copy.drop('RoofStyle_Mansard', axis=1, inplace=True)\n",
    "y_target = house_train_copy['SalePrice']\n",
    "X_features = house_train_copy.drop('SalePrice', axis=1, inplace=False)\n",
    "X_train, X_valid, y_train, y_valid = train_test_split(X_features, y_target, test_size=0.3, random_state=156)\n",
    "\n",
    "# Linear Regression OLS로 학습/예측/평가 수행. \n",
    "lr = LinearRegression()\n",
    "lr.fit(X_train ,y_train )\n",
    "y_preds = lr.predict(X_valid)\n",
    "mse = mean_squared_error(y_valid, y_preds)\n",
    "rmse = np.sqrt(mse)\n",
    "\n",
    "print('MSE : {0:.3f} , RMSE : {1:.3F}'.format(mse , rmse))"
   ]
  },
  {
   "cell_type": "code",
   "execution_count": 23,
   "id": "df474f24",
   "metadata": {},
   "outputs": [
    {
     "name": "stdout",
     "output_type": "stream",
     "text": [
      "MSE : 0.016 , RMSE : 0.127\n"
     ]
    }
   ],
   "source": [
    "house_train_copy.drop('Condition2_RRAe', axis=1, inplace=True)\n",
    "y_target = house_train_copy['SalePrice']\n",
    "X_features = house_train_copy.drop('SalePrice', axis=1, inplace=False)\n",
    "X_train, X_valid, y_train, y_valid = train_test_split(X_features, y_target, test_size=0.3, random_state=156)\n",
    "\n",
    "# Linear Regression OLS로 학습/예측/평가 수행. \n",
    "lr = LinearRegression()\n",
    "lr.fit(X_train ,y_train )\n",
    "y_preds = lr.predict(X_valid)\n",
    "mse = mean_squared_error(y_valid, y_preds)\n",
    "rmse = np.sqrt(mse)\n",
    "\n",
    "print('MSE : {0:.3f} , RMSE : {1:.3F}'.format(mse , rmse))\n"
   ]
  },
  {
   "cell_type": "code",
   "execution_count": 24,
   "id": "13e92c59",
   "metadata": {},
   "outputs": [
    {
     "name": "stdout",
     "output_type": "stream",
     "text": [
      "MSE : 0.016 , RMSE : 0.127\n"
     ]
    }
   ],
   "source": [
    "house_train_copy.drop('Foundation_Wood', axis=1, inplace=True)\n",
    "y_target = house_train_copy['SalePrice']\n",
    "X_features = house_train_copy.drop('SalePrice', axis=1, inplace=False)\n",
    "X_train, X_valid, y_train, y_valid = train_test_split(X_features, y_target, test_size=0.3, random_state=156)\n",
    "\n",
    "# Linear Regression OLS로 학습/예측/평가 수행. \n",
    "lr = LinearRegression()\n",
    "lr.fit(X_train ,y_train )\n",
    "y_preds = lr.predict(X_valid)\n",
    "mse = mean_squared_error(y_valid, y_preds)\n",
    "rmse = np.sqrt(mse)\n",
    "\n",
    "print('MSE : {0:.3f} , RMSE : {1:.3F}'.format(mse , rmse))"
   ]
  },
  {
   "cell_type": "code",
   "execution_count": 25,
   "id": "0bbaa17e",
   "metadata": {},
   "outputs": [
    {
     "name": "stdout",
     "output_type": "stream",
     "text": [
      "MSE : 0.016 , RMSE : 0.128\n"
     ]
    }
   ],
   "source": [
    "house_train_copy.drop('RoofMatl_Tar&Grv', axis=1, inplace=True)\n",
    "y_target = house_train_copy['SalePrice']\n",
    "X_features = house_train_copy.drop('SalePrice', axis=1, inplace=False)\n",
    "X_train, X_valid, y_train, y_valid = train_test_split(X_features, y_target, test_size=0.3, random_state=156)\n",
    "\n",
    "# Linear Regression OLS로 학습/예측/평가 수행. \n",
    "lr = LinearRegression()\n",
    "lr.fit(X_train ,y_train )\n",
    "y_preds = lr.predict(X_valid)\n",
    "mse = mean_squared_error(y_valid, y_preds)\n",
    "rmse = np.sqrt(mse)\n",
    "\n",
    "print('MSE : {0:.3f} , RMSE : {1:.3F}'.format(mse , rmse))"
   ]
  },
  {
   "cell_type": "code",
   "execution_count": 27,
   "id": "ece4b7ff",
   "metadata": {},
   "outputs": [
    {
     "name": "stdout",
     "output_type": "stream",
     "text": [
      "MSE : 0.016 , RMSE : 0.126\n"
     ]
    }
   ],
   "source": [
    "house_train.drop(['BsmtHalfBath', 'BsmtFinType2_GLQ','SaleType_ConLI', 'LotConfig_Corner', 'BsmtFinSF2','LotConfig_FR2', 'RoofMatl_Metal', 'GarageCond_Gd', 'RoofStyle_Mansard', 'Foundation_Wood'], axis=1, inplace=True)\n",
    "y_target = house_train['SalePrice']\n",
    "X_features = house_train.drop('SalePrice', axis=1, inplace=False)\n",
    "X_train, X_valid, y_train, y_valid = train_test_split(X_features, y_target, test_size=0.3, random_state=156)\n",
    "\n",
    "# Linear Regression OLS로 학습/예측/평가 수행. \n",
    "lr = LinearRegression()\n",
    "lr.fit(X_train ,y_train )\n",
    "y_preds = lr.predict(X_valid)\n",
    "mse = mean_squared_error(y_valid, y_preds)\n",
    "rmse = np.sqrt(mse)\n",
    "\n",
    "print('MSE : {0:.3f} , RMSE : {1:.3F}'.format(mse , rmse))"
   ]
  },
  {
   "cell_type": "code",
   "execution_count": null,
   "id": "d297443d",
   "metadata": {},
   "outputs": [],
   "source": []
  }
 ],
 "metadata": {
  "kernelspec": {
   "display_name": "Python 3",
   "language": "python",
   "name": "python3"
  },
  "language_info": {
   "codemirror_mode": {
    "name": "ipython",
    "version": 3
   },
   "file_extension": ".py",
   "mimetype": "text/x-python",
   "name": "python",
   "nbconvert_exporter": "python",
   "pygments_lexer": "ipython3",
   "version": "3.8.8"
  }
 },
 "nbformat": 4,
 "nbformat_minor": 5
}

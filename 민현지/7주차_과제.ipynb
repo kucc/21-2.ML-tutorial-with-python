{
 "cells": [
  {
   "cell_type": "code",
   "execution_count": 1,
   "id": "pregnant-playback",
   "metadata": {},
   "outputs": [
    {
     "name": "stdout",
     "output_type": "stream",
     "text": [
      "(30000, 24)\n"
     ]
    },
    {
     "data": {
      "text/html": [
       "<div>\n",
       "<style scoped>\n",
       "    .dataframe tbody tr th:only-of-type {\n",
       "        vertical-align: middle;\n",
       "    }\n",
       "\n",
       "    .dataframe tbody tr th {\n",
       "        vertical-align: top;\n",
       "    }\n",
       "\n",
       "    .dataframe thead th {\n",
       "        text-align: right;\n",
       "    }\n",
       "</style>\n",
       "<table border=\"1\" class=\"dataframe\">\n",
       "  <thead>\n",
       "    <tr style=\"text-align: right;\">\n",
       "      <th></th>\n",
       "      <th>LIMIT_BAL</th>\n",
       "      <th>SEX</th>\n",
       "      <th>EDUCATION</th>\n",
       "      <th>MARRIAGE</th>\n",
       "      <th>AGE</th>\n",
       "      <th>PAY_1</th>\n",
       "      <th>PAY_2</th>\n",
       "      <th>PAY_3</th>\n",
       "      <th>PAY_4</th>\n",
       "      <th>PAY_5</th>\n",
       "      <th>...</th>\n",
       "      <th>BILL_AMT4</th>\n",
       "      <th>BILL_AMT5</th>\n",
       "      <th>BILL_AMT6</th>\n",
       "      <th>PAY_AMT1</th>\n",
       "      <th>PAY_AMT2</th>\n",
       "      <th>PAY_AMT3</th>\n",
       "      <th>PAY_AMT4</th>\n",
       "      <th>PAY_AMT5</th>\n",
       "      <th>PAY_AMT6</th>\n",
       "      <th>default</th>\n",
       "    </tr>\n",
       "  </thead>\n",
       "  <tbody>\n",
       "    <tr>\n",
       "      <th>0</th>\n",
       "      <td>20000</td>\n",
       "      <td>2</td>\n",
       "      <td>2</td>\n",
       "      <td>1</td>\n",
       "      <td>24</td>\n",
       "      <td>2</td>\n",
       "      <td>2</td>\n",
       "      <td>-1</td>\n",
       "      <td>-1</td>\n",
       "      <td>-2</td>\n",
       "      <td>...</td>\n",
       "      <td>0</td>\n",
       "      <td>0</td>\n",
       "      <td>0</td>\n",
       "      <td>0</td>\n",
       "      <td>689</td>\n",
       "      <td>0</td>\n",
       "      <td>0</td>\n",
       "      <td>0</td>\n",
       "      <td>0</td>\n",
       "      <td>1</td>\n",
       "    </tr>\n",
       "    <tr>\n",
       "      <th>1</th>\n",
       "      <td>120000</td>\n",
       "      <td>2</td>\n",
       "      <td>2</td>\n",
       "      <td>2</td>\n",
       "      <td>26</td>\n",
       "      <td>-1</td>\n",
       "      <td>2</td>\n",
       "      <td>0</td>\n",
       "      <td>0</td>\n",
       "      <td>0</td>\n",
       "      <td>...</td>\n",
       "      <td>3272</td>\n",
       "      <td>3455</td>\n",
       "      <td>3261</td>\n",
       "      <td>0</td>\n",
       "      <td>1000</td>\n",
       "      <td>1000</td>\n",
       "      <td>1000</td>\n",
       "      <td>0</td>\n",
       "      <td>2000</td>\n",
       "      <td>1</td>\n",
       "    </tr>\n",
       "    <tr>\n",
       "      <th>2</th>\n",
       "      <td>90000</td>\n",
       "      <td>2</td>\n",
       "      <td>2</td>\n",
       "      <td>2</td>\n",
       "      <td>34</td>\n",
       "      <td>0</td>\n",
       "      <td>0</td>\n",
       "      <td>0</td>\n",
       "      <td>0</td>\n",
       "      <td>0</td>\n",
       "      <td>...</td>\n",
       "      <td>14331</td>\n",
       "      <td>14948</td>\n",
       "      <td>15549</td>\n",
       "      <td>1518</td>\n",
       "      <td>1500</td>\n",
       "      <td>1000</td>\n",
       "      <td>1000</td>\n",
       "      <td>1000</td>\n",
       "      <td>5000</td>\n",
       "      <td>0</td>\n",
       "    </tr>\n",
       "  </tbody>\n",
       "</table>\n",
       "<p>3 rows × 24 columns</p>\n",
       "</div>"
      ],
      "text/plain": [
       "   LIMIT_BAL  SEX  EDUCATION  MARRIAGE  AGE  PAY_1  PAY_2  PAY_3  PAY_4  \\\n",
       "0      20000    2          2         1   24      2      2     -1     -1   \n",
       "1     120000    2          2         2   26     -1      2      0      0   \n",
       "2      90000    2          2         2   34      0      0      0      0   \n",
       "\n",
       "   PAY_5  ...  BILL_AMT4  BILL_AMT5  BILL_AMT6  PAY_AMT1  PAY_AMT2  PAY_AMT3  \\\n",
       "0     -2  ...          0          0          0         0       689         0   \n",
       "1      0  ...       3272       3455       3261         0      1000      1000   \n",
       "2      0  ...      14331      14948      15549      1518      1500      1000   \n",
       "\n",
       "   PAY_AMT4  PAY_AMT5  PAY_AMT6  default  \n",
       "0         0         0         0        1  \n",
       "1      1000         0      2000        1  \n",
       "2      1000      1000      5000        0  \n",
       "\n",
       "[3 rows x 24 columns]"
      ]
     },
     "execution_count": 1,
     "metadata": {},
     "output_type": "execute_result"
    }
   ],
   "source": [
    "import pandas as pd\n",
    "\n",
    "df = pd.read_excel('credit_card.xls', header=1, sheet_name='Data').iloc[0:,1:]\n",
    "df.rename(columns={'PAY_0':'PAY_1','default payment next month':'default'}, inplace=True)\n",
    "print(df.shape)\n",
    "df.head(3)"
   ]
  },
  {
   "cell_type": "code",
   "execution_count": 2,
   "id": "middle-corporation",
   "metadata": {},
   "outputs": [],
   "source": [
    "y_target = df['default']\n",
    "X_features = df.drop('default', axis=1)"
   ]
  },
  {
   "cell_type": "code",
   "execution_count": 3,
   "id": "isolated-survey",
   "metadata": {},
   "outputs": [
    {
     "name": "stdout",
     "output_type": "stream",
     "text": [
      "<class 'pandas.core.frame.DataFrame'>\n",
      "RangeIndex: 30000 entries, 0 to 29999\n",
      "Data columns (total 23 columns):\n",
      " #   Column     Non-Null Count  Dtype\n",
      "---  ------     --------------  -----\n",
      " 0   LIMIT_BAL  30000 non-null  int64\n",
      " 1   SEX        30000 non-null  int64\n",
      " 2   EDUCATION  30000 non-null  int64\n",
      " 3   MARRIAGE   30000 non-null  int64\n",
      " 4   AGE        30000 non-null  int64\n",
      " 5   PAY_1      30000 non-null  int64\n",
      " 6   PAY_2      30000 non-null  int64\n",
      " 7   PAY_3      30000 non-null  int64\n",
      " 8   PAY_4      30000 non-null  int64\n",
      " 9   PAY_5      30000 non-null  int64\n",
      " 10  PAY_6      30000 non-null  int64\n",
      " 11  BILL_AMT1  30000 non-null  int64\n",
      " 12  BILL_AMT2  30000 non-null  int64\n",
      " 13  BILL_AMT3  30000 non-null  int64\n",
      " 14  BILL_AMT4  30000 non-null  int64\n",
      " 15  BILL_AMT5  30000 non-null  int64\n",
      " 16  BILL_AMT6  30000 non-null  int64\n",
      " 17  PAY_AMT1   30000 non-null  int64\n",
      " 18  PAY_AMT2   30000 non-null  int64\n",
      " 19  PAY_AMT3   30000 non-null  int64\n",
      " 20  PAY_AMT4   30000 non-null  int64\n",
      " 21  PAY_AMT5   30000 non-null  int64\n",
      " 22  PAY_AMT6   30000 non-null  int64\n",
      "dtypes: int64(23)\n",
      "memory usage: 5.3 MB\n"
     ]
    }
   ],
   "source": [
    "X_features.info()"
   ]
  },
  {
   "cell_type": "markdown",
   "id": "0f20189a",
   "metadata": {},
   "source": [
    "#### lightGBM을 사용하여 교차검증 및 평균 정확도 측정"
   ]
  },
  {
   "cell_type": "code",
   "execution_count": 4,
   "id": "editorial-sight",
   "metadata": {},
   "outputs": [
    {
     "name": "stdout",
     "output_type": "stream",
     "text": [
      "교차 검증별 정확도: [0.8071 0.8183 0.8213]\n",
      "평균 검증 정확도: 0.8156\n"
     ]
    }
   ],
   "source": [
    "from lightgbm import LGBMClassifier\n",
    "import numpy as np\n",
    "from sklearn.model_selection import train_test_split\n",
    "from sklearn.model_selection import cross_val_score, cross_validate\n",
    "\n",
    "X_train, X_test, y_train, y_test = train_test_split(X_features, y_target, test_size = 0.2, random_state=156)\n",
    "\n",
    "lgbm_wrapper = LGBMClassifier(n_estimators=400)\n",
    "\n",
    "scores = cross_val_score(lgbm_wrapper, X_features, y_target, scoring='accuracy', cv=3)\n",
    "print('교차 검증별 정확도:', np.round(scores, 4))\n",
    "print('평균 검증 정확도:', np.round(np.mean(scores), 4))"
   ]
  },
  {
   "cell_type": "markdown",
   "id": "8f8e7d43",
   "metadata": {},
   "source": [
    "#### n_components=2인 pca로 차원 축소"
   ]
  },
  {
   "cell_type": "code",
   "execution_count": 5,
   "id": "2b6947e8",
   "metadata": {},
   "outputs": [
    {
     "name": "stdout",
     "output_type": "stream",
     "text": [
      "(30000, 2)\n"
     ]
    }
   ],
   "source": [
    "from sklearn.decomposition import PCA\n",
    "\n",
    "pca = PCA(n_components=2)\n",
    "\n",
    "pca.fit(df)\n",
    "df_pca = pca.transform(df)\n",
    "print(df_pca.shape)"
   ]
  },
  {
   "cell_type": "code",
   "execution_count": 6,
   "id": "fe1dcddc",
   "metadata": {
    "scrolled": true
   },
   "outputs": [
    {
     "data": {
      "text/html": [
       "<div>\n",
       "<style scoped>\n",
       "    .dataframe tbody tr th:only-of-type {\n",
       "        vertical-align: middle;\n",
       "    }\n",
       "\n",
       "    .dataframe tbody tr th {\n",
       "        vertical-align: top;\n",
       "    }\n",
       "\n",
       "    .dataframe thead th {\n",
       "        text-align: right;\n",
       "    }\n",
       "</style>\n",
       "<table border=\"1\" class=\"dataframe\">\n",
       "  <thead>\n",
       "    <tr style=\"text-align: right;\">\n",
       "      <th></th>\n",
       "      <th>pca_component_1</th>\n",
       "      <th>pca_component_2</th>\n",
       "    </tr>\n",
       "  </thead>\n",
       "  <tbody>\n",
       "    <tr>\n",
       "      <th>0</th>\n",
       "      <td>-166488.191086</td>\n",
       "      <td>-75538.153664</td>\n",
       "    </tr>\n",
       "    <tr>\n",
       "      <th>1</th>\n",
       "      <td>-114226.976817</td>\n",
       "      <td>9780.671250</td>\n",
       "    </tr>\n",
       "    <tr>\n",
       "      <th>2</th>\n",
       "      <td>-98432.362180</td>\n",
       "      <td>-33471.387330</td>\n",
       "    </tr>\n",
       "    <tr>\n",
       "      <th>3</th>\n",
       "      <td>-71230.675903</td>\n",
       "      <td>-95224.273104</td>\n",
       "    </tr>\n",
       "    <tr>\n",
       "      <th>4</th>\n",
       "      <td>-114834.618365</td>\n",
       "      <td>-68729.185233</td>\n",
       "    </tr>\n",
       "  </tbody>\n",
       "</table>\n",
       "</div>"
      ],
      "text/plain": [
       "   pca_component_1  pca_component_2\n",
       "0   -166488.191086    -75538.153664\n",
       "1   -114226.976817      9780.671250\n",
       "2    -98432.362180    -33471.387330\n",
       "3    -71230.675903    -95224.273104\n",
       "4   -114834.618365    -68729.185233"
      ]
     },
     "execution_count": 6,
     "metadata": {},
     "output_type": "execute_result"
    }
   ],
   "source": [
    "pca_columns=['pca_component_1','pca_component_2']\n",
    "DF_pca = pd.DataFrame(df_pca,columns=pca_columns)\n",
    "DF_pca.head(5)"
   ]
  },
  {
   "cell_type": "markdown",
   "id": "e15109d8",
   "metadata": {},
   "source": [
    "#### 산점도로 데이터 시각화"
   ]
  },
  {
   "cell_type": "code",
   "execution_count": 9,
   "id": "7f7fddae",
   "metadata": {
    "scrolled": true
   },
   "outputs": [
    {
     "data": {
      "image/png": "[encoded data removed]",
      "text/plain": [
       "<Figure size 432x288 with 1 Axes>"
      ]
     },
     "metadata": {
      "needs_background": "light"
     },
     "output_type": "display_data"
    }
   ],
   "source": [
    "import matplotlib.pyplot as plt\n",
    "%matplotlib inline\n",
    "\n",
    "DF_pca['default']=df.default\n",
    "\n",
    "markers=['^', 's']\n",
    "\n",
    "for i, marker in enumerate(markers):\n",
    "    x_axis_data = DF_pca[DF_pca['default']==i]['pca_component_1']\n",
    "    y_axis_data = DF_pca[DF_pca['default']==i]['pca_component_2']\n",
    "    plt.scatter(x_axis_data, y_axis_data, marker=marker, label=i)\n",
    "\n",
    "plt.legend()\n",
    "plt.xlabel('pca_component_1')\n",
    "plt.ylabel('pca_component_2')\n",
    "plt.show()\n"
   ]
  },
  {
   "cell_type": "code",
   "execution_count": 10,
   "id": "606e3e7d",
   "metadata": {},
   "outputs": [
    {
     "name": "stdout",
     "output_type": "stream",
     "text": [
      "교차 검증별 정확도: [0.7721 0.7677 0.7734]\n",
      "평균 검증 정확도: 0.7711\n"
     ]
    }
   ],
   "source": [
    "y_target = DF_pca['default']\n",
    "X_features = DF_pca.drop('default', axis=1)\n",
    "\n",
    "X_train, X_test, y_train, y_test = train_test_split(X_features, y_target, test_size = 0.2, random_state=156)\n",
    "\n",
    "lgbm_wrapper = LGBMClassifier(n_estimators=400)\n",
    "\n",
    "scores = cross_val_score(lgbm_wrapper, X_features, y_target, scoring='accuracy', cv=3)\n",
    "print('교차 검증별 정확도:', np.round(scores, 4))\n",
    "print('평균 검증 정확도:', np.round(np.mean(scores), 4))"
   ]
  },
  {
   "cell_type": "markdown",
   "id": "e94359db",
   "metadata": {},
   "source": [
    "#### 최적의 n_components 찾기"
   ]
  },
  {
   "cell_type": "code",
   "execution_count": 12,
   "id": "a94d04d4",
   "metadata": {},
   "outputs": [
    {
     "name": "stdout",
     "output_type": "stream",
     "text": [
      "(30000, 3)\n"
     ]
    }
   ],
   "source": [
    "pca = PCA(n_components=3)\n",
    "\n",
    "pca.fit(df)\n",
    "df_pca = pca.transform(df)\n",
    "print(df_pca.shape)"
   ]
  },
  {
   "cell_type": "code",
   "execution_count": 13,
   "id": "ef896793",
   "metadata": {},
   "outputs": [
    {
     "data": {
      "text/html": [
       "<div>\n",
       "<style scoped>\n",
       "    .dataframe tbody tr th:only-of-type {\n",
       "        vertical-align: middle;\n",
       "    }\n",
       "\n",
       "    .dataframe tbody tr th {\n",
       "        vertical-align: top;\n",
       "    }\n",
       "\n",
       "    .dataframe thead th {\n",
       "        text-align: right;\n",
       "    }\n",
       "</style>\n",
       "<table border=\"1\" class=\"dataframe\">\n",
       "  <thead>\n",
       "    <tr style=\"text-align: right;\">\n",
       "      <th></th>\n",
       "      <th>pca_component_1</th>\n",
       "      <th>pca_component_2</th>\n",
       "      <th>pca_component_3</th>\n",
       "    </tr>\n",
       "  </thead>\n",
       "  <tbody>\n",
       "    <tr>\n",
       "      <th>0</th>\n",
       "      <td>-166488.191086</td>\n",
       "      <td>-75538.153664</td>\n",
       "      <td>-472.952105</td>\n",
       "    </tr>\n",
       "    <tr>\n",
       "      <th>1</th>\n",
       "      <td>-114226.976817</td>\n",
       "      <td>9780.671250</td>\n",
       "      <td>2734.447477</td>\n",
       "    </tr>\n",
       "    <tr>\n",
       "      <th>2</th>\n",
       "      <td>-98432.362180</td>\n",
       "      <td>-33471.387330</td>\n",
       "      <td>-2678.469791</td>\n",
       "    </tr>\n",
       "    <tr>\n",
       "      <th>3</th>\n",
       "      <td>-71230.675903</td>\n",
       "      <td>-95224.273104</td>\n",
       "      <td>-10047.716972</td>\n",
       "    </tr>\n",
       "    <tr>\n",
       "      <th>4</th>\n",
       "      <td>-114834.618365</td>\n",
       "      <td>-68729.185233</td>\n",
       "      <td>24604.948085</td>\n",
       "    </tr>\n",
       "  </tbody>\n",
       "</table>\n",
       "</div>"
      ],
      "text/plain": [
       "   pca_component_1  pca_component_2  pca_component_3\n",
       "0   -166488.191086    -75538.153664      -472.952105\n",
       "1   -114226.976817      9780.671250      2734.447477\n",
       "2    -98432.362180    -33471.387330     -2678.469791\n",
       "3    -71230.675903    -95224.273104    -10047.716972\n",
       "4   -114834.618365    -68729.185233     24604.948085"
      ]
     },
     "execution_count": 13,
     "metadata": {},
     "output_type": "execute_result"
    }
   ],
   "source": [
    "pca_columns=['pca_component_1','pca_component_2', 'pca_component_3']\n",
    "DF_pca = pd.DataFrame(df_pca,columns=pca_columns)\n",
    "DF_pca.head(5)"
   ]
  },
  {
   "cell_type": "code",
   "execution_count": 16,
   "id": "8fd727c9",
   "metadata": {},
   "outputs": [
    {
     "name": "stdout",
     "output_type": "stream",
     "text": [
      "교차 검증별 정확도: [0.7654 0.7718 0.7754]\n",
      "평균 검증 정확도: 0.7709\n"
     ]
    }
   ],
   "source": [
    "DF_pca['default']=df.default\n",
    "\n",
    "y_target = DF_pca['default']\n",
    "X_features = DF_pca.drop('default', axis=1)\n",
    "\n",
    "X_train, X_test, y_train, y_test = train_test_split(X_features, y_target, test_size = 0.2, random_state=156)\n",
    "\n",
    "lgbm_wrapper = LGBMClassifier(n_estimators=400)\n",
    "\n",
    "scores = cross_val_score(lgbm_wrapper, X_features, y_target, scoring='accuracy', cv=3)\n",
    "print('교차 검증별 정확도:', np.round(scores, 4))\n",
    "print('평균 검증 정확도:', np.round(np.mean(scores), 4))"
   ]
  },
  {
   "cell_type": "code",
   "execution_count": 17,
   "id": "e4e5ceab",
   "metadata": {},
   "outputs": [
    {
     "name": "stdout",
     "output_type": "stream",
     "text": [
      "교차 검증별 정확도: [0.764  0.7702 0.7752]\n",
      "평균 검증 정확도: 0.7698\n"
     ]
    }
   ],
   "source": [
    "pca = PCA(n_components=4)\n",
    "\n",
    "pca.fit(df)\n",
    "df_pca = pca.transform(df)\n",
    "\n",
    "pca_columns=['1','2', '3', '4']\n",
    "DF_pca = pd.DataFrame(df_pca,columns=pca_columns)\n",
    "\n",
    "DF_pca['default']=df.default\n",
    "\n",
    "y_target = DF_pca['default']\n",
    "X_features = DF_pca.drop('default', axis=1)\n",
    "\n",
    "X_train, X_test, y_train, y_test = train_test_split(X_features, y_target, test_size = 0.2, random_state=156)\n",
    "\n",
    "lgbm_wrapper = LGBMClassifier(n_estimators=400)\n",
    "\n",
    "scores = cross_val_score(lgbm_wrapper, X_features, y_target, scoring='accuracy', cv=3)\n",
    "print('교차 검증별 정확도:', np.round(scores, 4))\n",
    "print('평균 검증 정확도:', np.round(np.mean(scores), 4))"
   ]
  },
  {
   "cell_type": "code",
   "execution_count": 18,
   "id": "e66eb114",
   "metadata": {},
   "outputs": [
    {
     "name": "stdout",
     "output_type": "stream",
     "text": [
      "교차 검증별 정확도: [0.7697 0.7735 0.7766]\n",
      "평균 검증 정확도: 0.7733\n"
     ]
    }
   ],
   "source": [
    "pca = PCA(n_components=5)\n",
    "\n",
    "pca.fit(df)\n",
    "df_pca = pca.transform(df)\n",
    "\n",
    "pca_columns=['1','2', '3', '4', '5']\n",
    "DF_pca = pd.DataFrame(df_pca,columns=pca_columns)\n",
    "\n",
    "DF_pca['default']=df.default\n",
    "\n",
    "y_target = DF_pca['default']\n",
    "X_features = DF_pca.drop('default', axis=1)\n",
    "\n",
    "X_train, X_test, y_train, y_test = train_test_split(X_features, y_target, test_size = 0.2, random_state=156)\n",
    "\n",
    "lgbm_wrapper = LGBMClassifier(n_estimators=400)\n",
    "\n",
    "scores = cross_val_score(lgbm_wrapper, X_features, y_target, scoring='accuracy', cv=3)\n",
    "print('교차 검증별 정확도:', np.round(scores, 4))\n",
    "print('평균 검증 정확도:', np.round(np.mean(scores), 4))"
   ]
  },
  {
   "cell_type": "code",
   "execution_count": 19,
   "id": "fe7e5b3a",
   "metadata": {},
   "outputs": [
    {
     "name": "stdout",
     "output_type": "stream",
     "text": [
      "교차 검증별 정확도: [0.7722 0.7799 0.7793]\n",
      "평균 검증 정확도: 0.7771\n"
     ]
    }
   ],
   "source": [
    "pca = PCA(n_components=6)\n",
    "\n",
    "pca.fit(df)\n",
    "df_pca = pca.transform(df)\n",
    "\n",
    "pca_columns=['1','2', '3', '4', '5', '6']\n",
    "DF_pca = pd.DataFrame(df_pca,columns=pca_columns)\n",
    "\n",
    "DF_pca['default']=df.default\n",
    "\n",
    "y_target = DF_pca['default']\n",
    "X_features = DF_pca.drop('default', axis=1)\n",
    "\n",
    "X_train, X_test, y_train, y_test = train_test_split(X_features, y_target, test_size = 0.2, random_state=156)\n",
    "\n",
    "lgbm_wrapper = LGBMClassifier(n_estimators=400)\n",
    "\n",
    "scores = cross_val_score(lgbm_wrapper, X_features, y_target, scoring='accuracy', cv=3)\n",
    "print('교차 검증별 정확도:', np.round(scores, 4))\n",
    "print('평균 검증 정확도:', np.round(np.mean(scores), 4))"
   ]
  },
  {
   "cell_type": "code",
   "execution_count": 20,
   "id": "e5509dda",
   "metadata": {},
   "outputs": [
    {
     "name": "stdout",
     "output_type": "stream",
     "text": [
      "교차 검증별 정확도: [0.775  0.7782 0.7801]\n",
      "평균 검증 정확도: 0.7778\n"
     ]
    }
   ],
   "source": [
    "pca = PCA(n_components=7)\n",
    "\n",
    "pca.fit(df)\n",
    "df_pca = pca.transform(df)\n",
    "\n",
    "pca_columns=['1','2', '3', '4', '5', '6', '7']\n",
    "DF_pca = pd.DataFrame(df_pca,columns=pca_columns)\n",
    "\n",
    "DF_pca['default']=df.default\n",
    "\n",
    "y_target = DF_pca['default']\n",
    "X_features = DF_pca.drop('default', axis=1)\n",
    "\n",
    "X_train, X_test, y_train, y_test = train_test_split(X_features, y_target, test_size = 0.2, random_state=156)\n",
    "\n",
    "lgbm_wrapper = LGBMClassifier(n_estimators=400)\n",
    "\n",
    "scores = cross_val_score(lgbm_wrapper, X_features, y_target, scoring='accuracy', cv=3)\n",
    "print('교차 검증별 정확도:', np.round(scores, 4))\n",
    "print('평균 검증 정확도:', np.round(np.mean(scores), 4))"
   ]
  },
  {
   "cell_type": "code",
   "execution_count": 21,
   "id": "a07b949a",
   "metadata": {},
   "outputs": [
    {
     "name": "stdout",
     "output_type": "stream",
     "text": [
      "교차 검증별 정확도: [0.7764 0.7801 0.7851]\n",
      "평균 검증 정확도: 0.7805\n"
     ]
    }
   ],
   "source": [
    "pca = PCA(n_components=8)\n",
    "\n",
    "pca.fit(df)\n",
    "df_pca = pca.transform(df)\n",
    "\n",
    "pca_columns=['1','2', '3', '4', '5', '6', '7', '8']\n",
    "DF_pca = pd.DataFrame(df_pca,columns=pca_columns)\n",
    "\n",
    "DF_pca['default']=df.default\n",
    "\n",
    "y_target = DF_pca['default']\n",
    "X_features = DF_pca.drop('default', axis=1)\n",
    "\n",
    "X_train, X_test, y_train, y_test = train_test_split(X_features, y_target, test_size = 0.2, random_state=156)\n",
    "\n",
    "lgbm_wrapper = LGBMClassifier(n_estimators=400)\n",
    "\n",
    "scores = cross_val_score(lgbm_wrapper, X_features, y_target, scoring='accuracy', cv=3)\n",
    "print('교차 검증별 정확도:', np.round(scores, 4))\n",
    "print('평균 검증 정확도:', np.round(np.mean(scores), 4))"
   ]
  },
  {
   "cell_type": "code",
   "execution_count": 22,
   "id": "d808e01e",
   "metadata": {},
   "outputs": [
    {
     "name": "stdout",
     "output_type": "stream",
     "text": [
      "교차 검증별 정확도: [0.7774 0.7802 0.7832]\n",
      "평균 검증 정확도: 0.7803\n"
     ]
    }
   ],
   "source": [
    "pca = PCA(n_components=9)\n",
    "\n",
    "pca.fit(df)\n",
    "df_pca = pca.transform(df)\n",
    "\n",
    "pca_columns=['1','2', '3', '4', '5', '6', '7', '8', '9']\n",
    "DF_pca = pd.DataFrame(df_pca,columns=pca_columns)\n",
    "\n",
    "DF_pca['default']=df.default\n",
    "\n",
    "y_target = DF_pca['default']\n",
    "X_features = DF_pca.drop('default', axis=1)\n",
    "\n",
    "X_train, X_test, y_train, y_test = train_test_split(X_features, y_target, test_size = 0.2, random_state=156)\n",
    "\n",
    "lgbm_wrapper = LGBMClassifier(n_estimators=400)\n",
    "\n",
    "scores = cross_val_score(lgbm_wrapper, X_features, y_target, scoring='accuracy', cv=3)\n",
    "print('교차 검증별 정확도:', np.round(scores, 4))\n",
    "print('평균 검증 정확도:', np.round(np.mean(scores), 4))"
   ]
  },
  {
   "cell_type": "code",
   "execution_count": 23,
   "id": "8d95d464",
   "metadata": {},
   "outputs": [
    {
     "name": "stdout",
     "output_type": "stream",
     "text": [
      "교차 검증별 정확도: [0.7773 0.7792 0.7814]\n",
      "평균 검증 정확도: 0.7793\n"
     ]
    }
   ],
   "source": [
    "pca = PCA(n_components=10)\n",
    "\n",
    "pca.fit(df)\n",
    "df_pca = pca.transform(df)\n",
    "\n",
    "pca_columns=['1','2', '3', '4', '5', '6', '7', '8', '9', '10']\n",
    "DF_pca = pd.DataFrame(df_pca,columns=pca_columns)\n",
    "\n",
    "DF_pca['default']=df.default\n",
    "\n",
    "y_target = DF_pca['default']\n",
    "X_features = DF_pca.drop('default', axis=1)\n",
    "\n",
    "X_train, X_test, y_train, y_test = train_test_split(X_features, y_target, test_size = 0.2, random_state=156)\n",
    "\n",
    "lgbm_wrapper = LGBMClassifier(n_estimators=400)\n",
    "\n",
    "scores = cross_val_score(lgbm_wrapper, X_features, y_target, scoring='accuracy', cv=3)\n",
    "print('교차 검증별 정확도:', np.round(scores, 4))\n",
    "print('평균 검증 정확도:', np.round(np.mean(scores), 4))"
   ]
  },
  {
   "cell_type": "code",
   "execution_count": 24,
   "id": "9fb39387",
   "metadata": {},
   "outputs": [
    {
     "name": "stdout",
     "output_type": "stream",
     "text": [
      "교차 검증별 정확도: [0.7748 0.7804 0.7839]\n",
      "평균 검증 정확도: 0.7797\n"
     ]
    }
   ],
   "source": [
    "pca = PCA(n_components=11)\n",
    "\n",
    "pca.fit(df)\n",
    "df_pca = pca.transform(df)\n",
    "\n",
    "pca_columns=['1','2', '3', '4', '5', '6', '7', '8', '9', '10', '11']\n",
    "DF_pca = pd.DataFrame(df_pca,columns=pca_columns)\n",
    "\n",
    "DF_pca['default']=df.default\n",
    "\n",
    "y_target = DF_pca['default']\n",
    "X_features = DF_pca.drop('default', axis=1)\n",
    "\n",
    "X_train, X_test, y_train, y_test = train_test_split(X_features, y_target, test_size = 0.2, random_state=156)\n",
    "\n",
    "lgbm_wrapper = LGBMClassifier(n_estimators=400)\n",
    "\n",
    "scores = cross_val_score(lgbm_wrapper, X_features, y_target, scoring='accuracy', cv=3)\n",
    "print('교차 검증별 정확도:', np.round(scores, 4))\n",
    "print('평균 검증 정확도:', np.round(np.mean(scores), 4))"
   ]
  },
  {
   "cell_type": "code",
   "execution_count": 25,
   "id": "df59a484",
   "metadata": {},
   "outputs": [
    {
     "name": "stdout",
     "output_type": "stream",
     "text": [
      "교차 검증별 정확도: [0.7771 0.7816 0.7864]\n",
      "평균 검증 정확도: 0.7817\n"
     ]
    }
   ],
   "source": [
    "pca = PCA(n_components=12)\n",
    "\n",
    "pca.fit(df)\n",
    "df_pca = pca.transform(df)\n",
    "\n",
    "pca_columns=['1','2', '3', '4', '5', '6', '7', '8', '9', '10', '11', '12']\n",
    "DF_pca = pd.DataFrame(df_pca,columns=pca_columns)\n",
    "\n",
    "DF_pca['default']=df.default\n",
    "\n",
    "y_target = DF_pca['default']\n",
    "X_features = DF_pca.drop('default', axis=1)\n",
    "\n",
    "X_train, X_test, y_train, y_test = train_test_split(X_features, y_target, test_size = 0.2, random_state=156)\n",
    "\n",
    "lgbm_wrapper = LGBMClassifier(n_estimators=400)\n",
    "\n",
    "scores = cross_val_score(lgbm_wrapper, X_features, y_target, scoring='accuracy', cv=3)\n",
    "print('교차 검증별 정확도:', np.round(scores, 4))\n",
    "print('평균 검증 정확도:', np.round(np.mean(scores), 4))"
   ]
  },
  {
   "cell_type": "code",
   "execution_count": 26,
   "id": "a874069a",
   "metadata": {},
   "outputs": [
    {
     "name": "stdout",
     "output_type": "stream",
     "text": [
      "교차 검증별 정확도: [0.7778 0.7822 0.7822]\n",
      "평균 검증 정확도: 0.7807\n"
     ]
    }
   ],
   "source": [
    "pca = PCA(n_components=13)\n",
    "\n",
    "pca.fit(df)\n",
    "df_pca = pca.transform(df)\n",
    "\n",
    "pca_columns=['1','2', '3', '4', '5', '6', '7', '8', '9', '10', '11', '12', '13']\n",
    "DF_pca = pd.DataFrame(df_pca,columns=pca_columns)\n",
    "\n",
    "DF_pca['default']=df.default\n",
    "\n",
    "y_target = DF_pca['default']\n",
    "X_features = DF_pca.drop('default', axis=1)\n",
    "\n",
    "X_train, X_test, y_train, y_test = train_test_split(X_features, y_target, test_size = 0.2, random_state=156)\n",
    "\n",
    "lgbm_wrapper = LGBMClassifier(n_estimators=400)\n",
    "\n",
    "scores = cross_val_score(lgbm_wrapper, X_features, y_target, scoring='accuracy', cv=3)\n",
    "print('교차 검증별 정확도:', np.round(scores, 4))\n",
    "print('평균 검증 정확도:', np.round(np.mean(scores), 4))"
   ]
  },
  {
   "cell_type": "code",
   "execution_count": 27,
   "id": "007dfe5f",
   "metadata": {},
   "outputs": [
    {
     "name": "stdout",
     "output_type": "stream",
     "text": [
      "교차 검증별 정확도: [0.7791 0.7817 0.7841]\n",
      "평균 검증 정확도: 0.7816\n"
     ]
    }
   ],
   "source": [
    "pca = PCA(n_components=14)\n",
    "\n",
    "pca.fit(df)\n",
    "df_pca = pca.transform(df)\n",
    "\n",
    "pca_columns=['1','2', '3', '4', '5', '6', '7', '8', '9', '10', '11', '12', '13', '14']\n",
    "DF_pca = pd.DataFrame(df_pca,columns=pca_columns)\n",
    "\n",
    "DF_pca['default']=df.default\n",
    "\n",
    "y_target = DF_pca['default']\n",
    "X_features = DF_pca.drop('default', axis=1)\n",
    "\n",
    "X_train, X_test, y_train, y_test = train_test_split(X_features, y_target, test_size = 0.2, random_state=156)\n",
    "\n",
    "lgbm_wrapper = LGBMClassifier(n_estimators=400)\n",
    "\n",
    "scores = cross_val_score(lgbm_wrapper, X_features, y_target, scoring='accuracy', cv=3)\n",
    "print('교차 검증별 정확도:', np.round(scores, 4))\n",
    "print('평균 검증 정확도:', np.round(np.mean(scores), 4))"
   ]
  },
  {
   "cell_type": "code",
   "execution_count": 28,
   "id": "6d83277d",
   "metadata": {},
   "outputs": [
    {
     "name": "stdout",
     "output_type": "stream",
     "text": [
      "교차 검증별 정확도: [0.7926 0.7964 0.8002]\n",
      "평균 검증 정확도: 0.7964\n"
     ]
    }
   ],
   "source": [
    "pca = PCA(n_components=15)\n",
    "\n",
    "pca.fit(df)\n",
    "df_pca = pca.transform(df)\n",
    "\n",
    "pca_columns=['1','2', '3', '4', '5', '6', '7', '8', '9', '10', '11', '12', '13', '14', '15']\n",
    "DF_pca = pd.DataFrame(df_pca,columns=pca_columns)\n",
    "\n",
    "DF_pca['default']=df.default\n",
    "\n",
    "y_target = DF_pca['default']\n",
    "X_features = DF_pca.drop('default', axis=1)\n",
    "\n",
    "X_train, X_test, y_train, y_test = train_test_split(X_features, y_target, test_size = 0.2, random_state=156)\n",
    "\n",
    "lgbm_wrapper = LGBMClassifier(n_estimators=400)\n",
    "\n",
    "scores = cross_val_score(lgbm_wrapper, X_features, y_target, scoring='accuracy', cv=3)\n",
    "print('교차 검증별 정확도:', np.round(scores, 4))\n",
    "print('평균 검증 정확도:', np.round(np.mean(scores), 4))"
   ]
  },
  {
   "cell_type": "code",
   "execution_count": 29,
   "id": "194db7dc",
   "metadata": {},
   "outputs": [
    {
     "name": "stdout",
     "output_type": "stream",
     "text": [
      "교차 검증별 정확도: [0.8375 0.8448 0.8506]\n",
      "평균 검증 정확도: 0.8443\n"
     ]
    }
   ],
   "source": [
    "pca = PCA(n_components=16)\n",
    "\n",
    "pca.fit(df)\n",
    "df_pca = pca.transform(df)\n",
    "\n",
    "pca_columns=['1','2', '3', '4', '5', '6', '7', '8', '9', '10', '11', '12', '13', '14', '15', '16']\n",
    "DF_pca = pd.DataFrame(df_pca,columns=pca_columns)\n",
    "\n",
    "DF_pca['default']=df.default\n",
    "\n",
    "y_target = DF_pca['default']\n",
    "X_features = DF_pca.drop('default', axis=1)\n",
    "\n",
    "X_train, X_test, y_train, y_test = train_test_split(X_features, y_target, test_size = 0.2, random_state=156)\n",
    "\n",
    "lgbm_wrapper = LGBMClassifier(n_estimators=400)\n",
    "\n",
    "scores = cross_val_score(lgbm_wrapper, X_features, y_target, scoring='accuracy', cv=3)\n",
    "print('교차 검증별 정확도:', np.round(scores, 4))\n",
    "print('평균 검증 정확도:', np.round(np.mean(scores), 4))"
   ]
  },
  {
   "cell_type": "code",
   "execution_count": 30,
   "id": "dfc39474",
   "metadata": {},
   "outputs": [
    {
     "name": "stdout",
     "output_type": "stream",
     "text": [
      "교차 검증별 정확도: [0.841  0.8513 0.8589]\n",
      "평균 검증 정확도: 0.8504\n"
     ]
    }
   ],
   "source": [
    "pca = PCA(n_components=17)\n",
    "\n",
    "pca.fit(df)\n",
    "df_pca = pca.transform(df)\n",
    "\n",
    "pca_columns=['1','2', '3', '4', '5', '6', '7', '8', '9', '10', '11', '12', '13', '14', '15', '16','17']\n",
    "DF_pca = pd.DataFrame(df_pca,columns=pca_columns)\n",
    "\n",
    "DF_pca['default']=df.default\n",
    "\n",
    "y_target = DF_pca['default']\n",
    "X_features = DF_pca.drop('default', axis=1)\n",
    "\n",
    "X_train, X_test, y_train, y_test = train_test_split(X_features, y_target, test_size = 0.2, random_state=156)\n",
    "\n",
    "lgbm_wrapper = LGBMClassifier(n_estimators=400)\n",
    "\n",
    "scores = cross_val_score(lgbm_wrapper, X_features, y_target, scoring='accuracy', cv=3)\n",
    "print('교차 검증별 정확도:', np.round(scores, 4))\n",
    "print('평균 검증 정확도:', np.round(np.mean(scores), 4))"
   ]
  },
  {
   "cell_type": "code",
   "execution_count": 31,
   "id": "52aff46f",
   "metadata": {},
   "outputs": [
    {
     "name": "stdout",
     "output_type": "stream",
     "text": [
      "교차 검증별 정확도: [0.8507 0.8637 0.8622]\n",
      "평균 검증 정확도: 0.8589\n"
     ]
    }
   ],
   "source": [
    "pca = PCA(n_components=18)\n",
    "\n",
    "pca.fit(df)\n",
    "df_pca = pca.transform(df)\n",
    "\n",
    "pca_columns=['1','2', '3', '4', '5', '6', '7', '8', '9', '10', '11', '12', '13', '14', '15', '16','17', '18']\n",
    "DF_pca = pd.DataFrame(df_pca,columns=pca_columns)\n",
    "\n",
    "DF_pca['default']=df.default\n",
    "\n",
    "y_target = DF_pca['default']\n",
    "X_features = DF_pca.drop('default', axis=1)\n",
    "\n",
    "X_train, X_test, y_train, y_test = train_test_split(X_features, y_target, test_size = 0.2, random_state=156)\n",
    "\n",
    "lgbm_wrapper = LGBMClassifier(n_estimators=400)\n",
    "\n",
    "scores = cross_val_score(lgbm_wrapper, X_features, y_target, scoring='accuracy', cv=3)\n",
    "print('교차 검증별 정확도:', np.round(scores, 4))\n",
    "print('평균 검증 정확도:', np.round(np.mean(scores), 4))"
   ]
  },
  {
   "cell_type": "code",
   "execution_count": 34,
   "id": "aaa4cca1",
   "metadata": {},
   "outputs": [
    {
     "name": "stdout",
     "output_type": "stream",
     "text": [
      "교차 검증별 정확도: [0.8688 0.8777 0.881 ]\n",
      "평균 검증 정확도: 0.8758\n"
     ]
    }
   ],
   "source": [
    "pca = PCA(n_components=19)\n",
    "\n",
    "pca.fit(df)\n",
    "df_pca = pca.transform(df)\n",
    "\n",
    "pca_columns=['1','2', '3', '4', '5', '6', '7', '8', '9', '10', '11', '12', '13', '14', '15', '16','17', '18', '19']\n",
    "DF_pca = pd.DataFrame(df_pca,columns=pca_columns)\n",
    "\n",
    "DF_pca['default']=df.default\n",
    "\n",
    "y_target = DF_pca['default']\n",
    "X_features = DF_pca.drop('default', axis=1)\n",
    "\n",
    "X_train, X_test, y_train, y_test = train_test_split(X_features, y_target, test_size = 0.2, random_state=156)\n",
    "\n",
    "lgbm_wrapper = LGBMClassifier(n_estimators=400)\n",
    "\n",
    "scores = cross_val_score(lgbm_wrapper, X_features, y_target, scoring='accuracy', cv=3)\n",
    "print('교차 검증별 정확도:', np.round(scores, 4))\n",
    "print('평균 검증 정확도:', np.round(np.mean(scores), 4))"
   ]
  },
  {
   "cell_type": "code",
   "execution_count": 35,
   "id": "12823e2d",
   "metadata": {},
   "outputs": [
    {
     "name": "stdout",
     "output_type": "stream",
     "text": [
      "교차 검증별 정확도: [0.8715 0.8818 0.8844]\n",
      "평균 검증 정확도: 0.8792\n"
     ]
    }
   ],
   "source": [
    "pca = PCA(n_components=20)\n",
    "\n",
    "pca.fit(df)\n",
    "df_pca = pca.transform(df)\n",
    "\n",
    "pca_columns=['1','2', '3', '4', '5', '6', '7', '8', '9', '10', '11', '12', '13', '14', '15', '16','17', '18', '19', '20']\n",
    "DF_pca = pd.DataFrame(df_pca,columns=pca_columns)\n",
    "\n",
    "DF_pca['default']=df.default\n",
    "\n",
    "y_target = DF_pca['default']\n",
    "X_features = DF_pca.drop('default', axis=1)\n",
    "\n",
    "X_train, X_test, y_train, y_test = train_test_split(X_features, y_target, test_size = 0.2, random_state=156)\n",
    "\n",
    "lgbm_wrapper = LGBMClassifier(n_estimators=400)\n",
    "\n",
    "scores = cross_val_score(lgbm_wrapper, X_features, y_target, scoring='accuracy', cv=3)\n",
    "print('교차 검증별 정확도:', np.round(scores, 4))\n",
    "print('평균 검증 정확도:', np.round(np.mean(scores), 4))"
   ]
  },
  {
   "cell_type": "code",
   "execution_count": 36,
   "id": "e47ff7ff",
   "metadata": {},
   "outputs": [
    {
     "name": "stdout",
     "output_type": "stream",
     "text": [
      "교차 검증별 정확도: [0.8684 0.88   0.8813]\n",
      "평균 검증 정확도: 0.8766\n"
     ]
    }
   ],
   "source": [
    "pca = PCA(n_components=21)\n",
    "\n",
    "pca.fit(df)\n",
    "df_pca = pca.transform(df)\n",
    "\n",
    "pca_columns=['1','2', '3', '4', '5', '6', '7', '8', '9', '10', '11', '12', '13', '14', '15', '16','17', '18', '19', '20', '21']\n",
    "DF_pca = pd.DataFrame(df_pca,columns=pca_columns)\n",
    "\n",
    "DF_pca['default']=df.default\n",
    "\n",
    "y_target = DF_pca['default']\n",
    "X_features = DF_pca.drop('default', axis=1)\n",
    "\n",
    "X_train, X_test, y_train, y_test = train_test_split(X_features, y_target, test_size = 0.2, random_state=156)\n",
    "\n",
    "lgbm_wrapper = LGBMClassifier(n_estimators=400)\n",
    "\n",
    "scores = cross_val_score(lgbm_wrapper, X_features, y_target, scoring='accuracy', cv=3)\n",
    "print('교차 검증별 정확도:', np.round(scores, 4))\n",
    "print('평균 검증 정확도:', np.round(np.mean(scores), 4))"
   ]
  },
  {
   "cell_type": "markdown",
   "id": "150ad95e",
   "metadata": {},
   "source": [
    "가장 평균 정확도가 높은 경우 : n=20"
   ]
  },
  {
   "cell_type": "markdown",
   "id": "e87f8b93",
   "metadata": {},
   "source": [
    "원본 데이터와의 평균 정확도 차이 : 0.0636"
   ]
  },
  {
   "cell_type": "code",
   "execution_count": 39,
   "id": "619487b3",
   "metadata": {},
   "outputs": [
    {
     "data": {
      "text/plain": [
       "<AxesSubplot:>"
      ]
     },
     "execution_count": 39,
     "metadata": {},
     "output_type": "execute_result"
    },
    {
     "data": {
      "image/png": "[encoded data removed]",
      "text/plain": [
       "<Figure size 1008x1008 with 2 Axes>"
      ]
     },
     "metadata": {
      "needs_background": "light"
     },
     "output_type": "display_data"
    }
   ],
   "source": [
    "import seaborn as sns\n",
    "\n",
    "X_features = df.drop('default', axis=1)\n",
    "corr = X_features.corr()\n",
    "plt.figure(figsize=(14,14))\n",
    "sns.heatmap(corr, annot=True, fmt='.1g')"
   ]
  },
  {
   "cell_type": "markdown",
   "id": "1fc5058a",
   "metadata": {},
   "source": [
    "bill_amt1\\~bill_amt6의 상관도가 매우 높으며, pay_1\\~pay_6까지의 상관도 역시 상당히 높다.\n",
    "즉, 각 column들 사이의 상관도가 높은편이기 때문에, PCA를 통해 차원 축소를 하더라도 좋은 성능을 보일 수 있는 것 같다."
   ]
  }
 ],
 "metadata": {
  "kernelspec": {
   "display_name": "Python 3",
   "language": "python",
   "name": "python3"
  },
  "language_info": {
   "codemirror_mode": {
    "name": "ipython",
    "version": 3
   },
   "file_extension": ".py",
   "mimetype": "text/x-python",
   "name": "python",
   "nbconvert_exporter": "python",
   "pygments_lexer": "ipython3",
   "version": "3.8.8"
  }
 },
 "nbformat": 4,
 "nbformat_minor": 5
}

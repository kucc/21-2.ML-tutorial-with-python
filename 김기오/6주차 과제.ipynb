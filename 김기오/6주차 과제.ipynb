{
 "cells": [
  {
   "cell_type": "markdown",
   "metadata": {},
   "source": [
    "## 자전거 대여 수요 예측"
   ]
  },
  {
   "cell_type": "code",
   "execution_count": 1,
   "metadata": {},
   "outputs": [
    {
     "name": "stdout",
     "output_type": "stream",
     "text": [
      "(10886, 12)\n"
     ]
    },
    {
     "data": {
      "text/html": [
       "<div>\n",
       "<style scoped>\n",
       "    .dataframe tbody tr th:only-of-type {\n",
       "        vertical-align: middle;\n",
       "    }\n",
       "\n",
       "    .dataframe tbody tr th {\n",
       "        vertical-align: top;\n",
       "    }\n",
       "\n",
       "    .dataframe thead th {\n",
       "        text-align: right;\n",
       "    }\n",
       "</style>\n",
       "<table border=\"1\" class=\"dataframe\">\n",
       "  <thead>\n",
       "    <tr style=\"text-align: right;\">\n",
       "      <th></th>\n",
       "      <th>datetime</th>\n",
       "      <th>season</th>\n",
       "      <th>holiday</th>\n",
       "      <th>workingday</th>\n",
       "      <th>weather</th>\n",
       "      <th>temp</th>\n",
       "      <th>atemp</th>\n",
       "      <th>humidity</th>\n",
       "      <th>windspeed</th>\n",
       "      <th>casual</th>\n",
       "      <th>registered</th>\n",
       "      <th>count</th>\n",
       "    </tr>\n",
       "  </thead>\n",
       "  <tbody>\n",
       "    <tr>\n",
       "      <th>0</th>\n",
       "      <td>2011-01-01 00:00:00</td>\n",
       "      <td>1</td>\n",
       "      <td>0</td>\n",
       "      <td>0</td>\n",
       "      <td>1</td>\n",
       "      <td>9.84</td>\n",
       "      <td>14.395</td>\n",
       "      <td>81</td>\n",
       "      <td>0.0</td>\n",
       "      <td>3</td>\n",
       "      <td>13</td>\n",
       "      <td>16</td>\n",
       "    </tr>\n",
       "    <tr>\n",
       "      <th>1</th>\n",
       "      <td>2011-01-01 01:00:00</td>\n",
       "      <td>1</td>\n",
       "      <td>0</td>\n",
       "      <td>0</td>\n",
       "      <td>1</td>\n",
       "      <td>9.02</td>\n",
       "      <td>13.635</td>\n",
       "      <td>80</td>\n",
       "      <td>0.0</td>\n",
       "      <td>8</td>\n",
       "      <td>32</td>\n",
       "      <td>40</td>\n",
       "    </tr>\n",
       "    <tr>\n",
       "      <th>2</th>\n",
       "      <td>2011-01-01 02:00:00</td>\n",
       "      <td>1</td>\n",
       "      <td>0</td>\n",
       "      <td>0</td>\n",
       "      <td>1</td>\n",
       "      <td>9.02</td>\n",
       "      <td>13.635</td>\n",
       "      <td>80</td>\n",
       "      <td>0.0</td>\n",
       "      <td>5</td>\n",
       "      <td>27</td>\n",
       "      <td>32</td>\n",
       "    </tr>\n",
       "    <tr>\n",
       "      <th>3</th>\n",
       "      <td>2011-01-01 03:00:00</td>\n",
       "      <td>1</td>\n",
       "      <td>0</td>\n",
       "      <td>0</td>\n",
       "      <td>1</td>\n",
       "      <td>9.84</td>\n",
       "      <td>14.395</td>\n",
       "      <td>75</td>\n",
       "      <td>0.0</td>\n",
       "      <td>3</td>\n",
       "      <td>10</td>\n",
       "      <td>13</td>\n",
       "    </tr>\n",
       "    <tr>\n",
       "      <th>4</th>\n",
       "      <td>2011-01-01 04:00:00</td>\n",
       "      <td>1</td>\n",
       "      <td>0</td>\n",
       "      <td>0</td>\n",
       "      <td>1</td>\n",
       "      <td>9.84</td>\n",
       "      <td>14.395</td>\n",
       "      <td>75</td>\n",
       "      <td>0.0</td>\n",
       "      <td>0</td>\n",
       "      <td>1</td>\n",
       "      <td>1</td>\n",
       "    </tr>\n",
       "  </tbody>\n",
       "</table>\n",
       "</div>"
      ],
      "text/plain": [
       "              datetime  season  holiday  workingday  weather  temp   atemp  \\\n",
       "0  2011-01-01 00:00:00       1        0           0        1  9.84  14.395   \n",
       "1  2011-01-01 01:00:00       1        0           0        1  9.02  13.635   \n",
       "2  2011-01-01 02:00:00       1        0           0        1  9.02  13.635   \n",
       "3  2011-01-01 03:00:00       1        0           0        1  9.84  14.395   \n",
       "4  2011-01-01 04:00:00       1        0           0        1  9.84  14.395   \n",
       "\n",
       "   humidity  windspeed  casual  registered  count  \n",
       "0        81        0.0       3          13     16  \n",
       "1        80        0.0       8          32     40  \n",
       "2        80        0.0       5          27     32  \n",
       "3        75        0.0       3          10     13  \n",
       "4        75        0.0       0           1      1  "
      ]
     },
     "execution_count": 1,
     "metadata": {},
     "output_type": "execute_result"
    }
   ],
   "source": [
    "import numpy as np\n",
    "import pandas as pd\n",
    "import seaborn as sns\n",
    "import matplotlib.pyplot as plt\n",
    "%matplotlib inline\n",
    "\n",
    "import warnings\n",
    "warnings.filterwarnings(\"ignore\", category=RuntimeWarning)\n",
    "\n",
    "bike_df = pd.read_csv('train_bike.csv')\n",
    "print(bike_df.shape)\n",
    "bike_df.head(5)"
   ]
  },
  {
   "cell_type": "code",
   "execution_count": 2,
   "metadata": {},
   "outputs": [
    {
     "data": {
      "text/html": [
       "<div>\n",
       "<style scoped>\n",
       "    .dataframe tbody tr th:only-of-type {\n",
       "        vertical-align: middle;\n",
       "    }\n",
       "\n",
       "    .dataframe tbody tr th {\n",
       "        vertical-align: top;\n",
       "    }\n",
       "\n",
       "    .dataframe thead th {\n",
       "        text-align: right;\n",
       "    }\n",
       "</style>\n",
       "<table border=\"1\" class=\"dataframe\">\n",
       "  <thead>\n",
       "    <tr style=\"text-align: right;\">\n",
       "      <th></th>\n",
       "      <th>datetime</th>\n",
       "      <th>season</th>\n",
       "      <th>holiday</th>\n",
       "      <th>workingday</th>\n",
       "      <th>weather</th>\n",
       "      <th>temp</th>\n",
       "      <th>atemp</th>\n",
       "      <th>humidity</th>\n",
       "      <th>windspeed</th>\n",
       "      <th>casual</th>\n",
       "      <th>registered</th>\n",
       "      <th>count</th>\n",
       "      <th>year</th>\n",
       "      <th>month</th>\n",
       "      <th>day</th>\n",
       "      <th>hour</th>\n",
       "      <th>minute</th>\n",
       "      <th>second</th>\n",
       "    </tr>\n",
       "  </thead>\n",
       "  <tbody>\n",
       "    <tr>\n",
       "      <th>0</th>\n",
       "      <td>2011 01 01 00 00 00</td>\n",
       "      <td>1</td>\n",
       "      <td>0</td>\n",
       "      <td>0</td>\n",
       "      <td>1</td>\n",
       "      <td>9.84</td>\n",
       "      <td>14.395</td>\n",
       "      <td>81</td>\n",
       "      <td>0.0</td>\n",
       "      <td>3</td>\n",
       "      <td>13</td>\n",
       "      <td>16</td>\n",
       "      <td>2011</td>\n",
       "      <td>01</td>\n",
       "      <td>01</td>\n",
       "      <td>00</td>\n",
       "      <td>00</td>\n",
       "      <td>00</td>\n",
       "    </tr>\n",
       "    <tr>\n",
       "      <th>1</th>\n",
       "      <td>2011 01 01 01 00 00</td>\n",
       "      <td>1</td>\n",
       "      <td>0</td>\n",
       "      <td>0</td>\n",
       "      <td>1</td>\n",
       "      <td>9.02</td>\n",
       "      <td>13.635</td>\n",
       "      <td>80</td>\n",
       "      <td>0.0</td>\n",
       "      <td>8</td>\n",
       "      <td>32</td>\n",
       "      <td>40</td>\n",
       "      <td>2011</td>\n",
       "      <td>01</td>\n",
       "      <td>01</td>\n",
       "      <td>01</td>\n",
       "      <td>00</td>\n",
       "      <td>00</td>\n",
       "    </tr>\n",
       "    <tr>\n",
       "      <th>2</th>\n",
       "      <td>2011 01 01 02 00 00</td>\n",
       "      <td>1</td>\n",
       "      <td>0</td>\n",
       "      <td>0</td>\n",
       "      <td>1</td>\n",
       "      <td>9.02</td>\n",
       "      <td>13.635</td>\n",
       "      <td>80</td>\n",
       "      <td>0.0</td>\n",
       "      <td>5</td>\n",
       "      <td>27</td>\n",
       "      <td>32</td>\n",
       "      <td>2011</td>\n",
       "      <td>01</td>\n",
       "      <td>01</td>\n",
       "      <td>02</td>\n",
       "      <td>00</td>\n",
       "      <td>00</td>\n",
       "    </tr>\n",
       "    <tr>\n",
       "      <th>3</th>\n",
       "      <td>2011 01 01 03 00 00</td>\n",
       "      <td>1</td>\n",
       "      <td>0</td>\n",
       "      <td>0</td>\n",
       "      <td>1</td>\n",
       "      <td>9.84</td>\n",
       "      <td>14.395</td>\n",
       "      <td>75</td>\n",
       "      <td>0.0</td>\n",
       "      <td>3</td>\n",
       "      <td>10</td>\n",
       "      <td>13</td>\n",
       "      <td>2011</td>\n",
       "      <td>01</td>\n",
       "      <td>01</td>\n",
       "      <td>03</td>\n",
       "      <td>00</td>\n",
       "      <td>00</td>\n",
       "    </tr>\n",
       "    <tr>\n",
       "      <th>4</th>\n",
       "      <td>2011 01 01 04 00 00</td>\n",
       "      <td>1</td>\n",
       "      <td>0</td>\n",
       "      <td>0</td>\n",
       "      <td>1</td>\n",
       "      <td>9.84</td>\n",
       "      <td>14.395</td>\n",
       "      <td>75</td>\n",
       "      <td>0.0</td>\n",
       "      <td>0</td>\n",
       "      <td>1</td>\n",
       "      <td>1</td>\n",
       "      <td>2011</td>\n",
       "      <td>01</td>\n",
       "      <td>01</td>\n",
       "      <td>04</td>\n",
       "      <td>00</td>\n",
       "      <td>00</td>\n",
       "    </tr>\n",
       "  </tbody>\n",
       "</table>\n",
       "</div>"
      ],
      "text/plain": [
       "              datetime  season  holiday  workingday  weather  temp   atemp  \\\n",
       "0  2011 01 01 00 00 00       1        0           0        1  9.84  14.395   \n",
       "1  2011 01 01 01 00 00       1        0           0        1  9.02  13.635   \n",
       "2  2011 01 01 02 00 00       1        0           0        1  9.02  13.635   \n",
       "3  2011 01 01 03 00 00       1        0           0        1  9.84  14.395   \n",
       "4  2011 01 01 04 00 00       1        0           0        1  9.84  14.395   \n",
       "\n",
       "   humidity  windspeed  casual  registered  count  year month day hour minute  \\\n",
       "0        81        0.0       3          13     16  2011    01  01   00     00   \n",
       "1        80        0.0       8          32     40  2011    01  01   01     00   \n",
       "2        80        0.0       5          27     32  2011    01  01   02     00   \n",
       "3        75        0.0       3          10     13  2011    01  01   03     00   \n",
       "4        75        0.0       0           1      1  2011    01  01   04     00   \n",
       "\n",
       "  second  \n",
       "0     00  \n",
       "1     00  \n",
       "2     00  \n",
       "3     00  \n",
       "4     00  "
      ]
     },
     "execution_count": 2,
     "metadata": {},
     "output_type": "execute_result"
    }
   ],
   "source": [
    "bike_df['datetime'] = bike_df['datetime'].str.replace('-', ' ')\n",
    "bike_df['datetime'] = bike_df['datetime'].str.replace(':', ' ')\n",
    "bike_df[['year', 'month', 'day', 'hour', 'minute', 'second']] = bike_df['datetime'].str.split(' ', expand=True)\n",
    "bike_df.head(5)"
   ]
  },
  {
   "cell_type": "code",
   "execution_count": 3,
   "metadata": {},
   "outputs": [],
   "source": [
    "date_columns = ['year', 'month', 'day', 'hour', 'minute', 'second']\n",
    "cols_to_drop = ['minute', 'second', 'hour', 'day']\n",
    "cols_not_drop = [item for item in date_columns if item not in cols_to_drop]\n",
    "\n",
    "bike_df.drop(columns = ['datetime'] + cols_to_drop, inplace = True)\n",
    "bike_df[cols_not_drop] = bike_df[cols_not_drop].apply(pd.to_numeric, errors='coerce')"
   ]
  },
  {
   "cell_type": "code",
   "execution_count": 4,
   "metadata": {
    "scrolled": true
   },
   "outputs": [
    {
     "data": {
      "text/plain": [
       "<matplotlib.axes._subplots.AxesSubplot at 0x25e2ede34f0>"
      ]
     },
     "execution_count": 4,
     "metadata": {},
     "output_type": "execute_result"
    },
    {
     "data": {
      "image/png": "[encoded data removed]",
      "text/plain": [
       "<Figure size 432x288 with 1 Axes>"
      ]
     },
     "metadata": {
      "needs_background": "light"
     },
     "output_type": "display_data"
    }
   ],
   "source": [
    "import seaborn as sns\n",
    "\n",
    "sns.distplot(bike_df['count'])"
   ]
  },
  {
   "cell_type": "code",
   "execution_count": 5,
   "metadata": {
    "scrolled": true
   },
   "outputs": [
    {
     "data": {
      "text/plain": [
       "<matplotlib.axes._subplots.AxesSubplot at 0x25e33c2a4c0>"
      ]
     },
     "execution_count": 5,
     "metadata": {},
     "output_type": "execute_result"
    },
    {
     "data": {
      "image/png": "[encoded data removed]",
      "text/plain": [
       "<Figure size 432x288 with 1 Axes>"
      ]
     },
     "metadata": {
      "needs_background": "light"
     },
     "output_type": "display_data"
    }
   ],
   "source": [
    "#count의 값 스케일링\n",
    "\n",
    "bike_df['count'] = np.log1p(bike_df['count'])\n",
    "sns.distplot(bike_df['count'])"
   ]
  },
  {
   "cell_type": "code",
   "execution_count": 6,
   "metadata": {},
   "outputs": [],
   "source": [
    "from sklearn.preprocessing import StandardScaler\n",
    "\n",
    "def scaleDf(input_df, columns):\n",
    "    df = input_df.copy()\n",
    "    scaler = StandardScaler()\n",
    "    df[columns] = scaler.fit_transform(df[columns])\n",
    "    return df"
   ]
  },
  {
   "cell_type": "code",
   "execution_count": 7,
   "metadata": {},
   "outputs": [],
   "source": [
    "scaled_df = scaleDf(bike_df, ['temp', 'atemp', 'humidity', 'casual', 'registered'])"
   ]
  },
  {
   "cell_type": "code",
   "execution_count": 8,
   "metadata": {},
   "outputs": [
    {
     "data": {
      "text/plain": [
       "array([[<matplotlib.axes._subplots.AxesSubplot object at 0x0000025E348DB700>,\n",
       "        <matplotlib.axes._subplots.AxesSubplot object at 0x0000025E348B4BB0>,\n",
       "        <matplotlib.axes._subplots.AxesSubplot object at 0x0000025E349160D0>,\n",
       "        <matplotlib.axes._subplots.AxesSubplot object at 0x0000025E34790520>],\n",
       "       [<matplotlib.axes._subplots.AxesSubplot object at 0x0000025E347BB970>,\n",
       "        <matplotlib.axes._subplots.AxesSubplot object at 0x0000025E347E9D00>,\n",
       "        <matplotlib.axes._subplots.AxesSubplot object at 0x0000025E347E9DF0>,\n",
       "        <matplotlib.axes._subplots.AxesSubplot object at 0x0000025E348252E0>],\n",
       "       [<matplotlib.axes._subplots.AxesSubplot object at 0x0000025E3487CB20>,\n",
       "        <matplotlib.axes._subplots.AxesSubplot object at 0x0000025E348A9F70>,\n",
       "        <matplotlib.axes._subplots.AxesSubplot object at 0x0000025E34962400>,\n",
       "        <matplotlib.axes._subplots.AxesSubplot object at 0x0000025E3498E850>],\n",
       "       [<matplotlib.axes._subplots.AxesSubplot object at 0x0000025E349BDCA0>,\n",
       "        <matplotlib.axes._subplots.AxesSubplot object at 0x0000025E349F8040>,\n",
       "        <matplotlib.axes._subplots.AxesSubplot object at 0x0000025E34A17670>,\n",
       "        <matplotlib.axes._subplots.AxesSubplot object at 0x0000025E34A43AC0>]],\n",
       "      dtype=object)"
      ]
     },
     "execution_count": 8,
     "metadata": {},
     "output_type": "execute_result"
    },
    {
     "data": {
      "image/png": "[encoded data removed]",
      "text/plain": [
       "<Figure size 1440x1080 with 16 Axes>"
      ]
     },
     "metadata": {
      "needs_background": "light"
     },
     "output_type": "display_data"
    }
   ],
   "source": [
    "scaled_df.hist(figsize=(20, 15))"
   ]
  },
  {
   "cell_type": "code",
   "execution_count": 9,
   "metadata": {},
   "outputs": [],
   "source": [
    "# season, weather를 one-hot encoding한다.\n",
    "\n",
    "def oneHotDf(df):\n",
    "    bike_oh = df.copy()\n",
    "    bike_oh['weather_1'], bike_oh['weather_2'], bike_oh['weather_3'], bike_oh['weather_4'] = 0, 0, 0, 0\n",
    "    bike_oh.loc[bike_oh['weather'] == 1, 'weather_1'] = 1\n",
    "    bike_oh.loc[bike_oh['weather'] == 2, 'weather_2'] = 1\n",
    "    bike_oh.loc[bike_oh['weather'] == 3, 'weather_3'] = 1\n",
    "    bike_oh.loc[bike_oh['weather'] == 4, 'weather_4'] = 1\n",
    "    bike_oh.drop(columns = ['weather'], inplace=True)\n",
    "\n",
    "    bike_oh['season_1'], bike_oh['season_2'], bike_oh['season_3'], bike_oh['season_4'] = 0, 0, 0, 0\n",
    "    bike_oh.loc[bike_oh['season'] == 1, 'season_1'] = 1\n",
    "    bike_oh.loc[bike_oh['season'] == 2, 'season_2'] = 1\n",
    "    bike_oh.loc[bike_oh['season'] == 3, 'season_3'] = 1\n",
    "    bike_oh.loc[bike_oh['season'] == 4, 'season_4'] = 1\n",
    "    bike_oh.drop(columns = ['season'], inplace=True)\n",
    "    \n",
    "    return bike_oh"
   ]
  },
  {
   "cell_type": "code",
   "execution_count": 10,
   "metadata": {},
   "outputs": [],
   "source": [
    "# scaled_df.drop(columns=['registered', 'casual'], inplace=True)\n",
    "# 위를 시도해봤는데 성능이 더 안좋아짐\n",
    "\n",
    "onehot_df = oneHotDf(scaled_df)"
   ]
  },
  {
   "cell_type": "code",
   "execution_count": 11,
   "metadata": {},
   "outputs": [
    {
     "data": {
      "text/html": [
       "<div>\n",
       "<style scoped>\n",
       "    .dataframe tbody tr th:only-of-type {\n",
       "        vertical-align: middle;\n",
       "    }\n",
       "\n",
       "    .dataframe tbody tr th {\n",
       "        vertical-align: top;\n",
       "    }\n",
       "\n",
       "    .dataframe thead th {\n",
       "        text-align: right;\n",
       "    }\n",
       "</style>\n",
       "<table border=\"1\" class=\"dataframe\">\n",
       "  <thead>\n",
       "    <tr style=\"text-align: right;\">\n",
       "      <th></th>\n",
       "      <th>season</th>\n",
       "      <th>holiday</th>\n",
       "      <th>workingday</th>\n",
       "      <th>weather</th>\n",
       "      <th>temp</th>\n",
       "      <th>atemp</th>\n",
       "      <th>humidity</th>\n",
       "      <th>windspeed</th>\n",
       "      <th>casual</th>\n",
       "      <th>registered</th>\n",
       "      <th>year</th>\n",
       "      <th>month</th>\n",
       "      <th>count</th>\n",
       "    </tr>\n",
       "  </thead>\n",
       "  <tbody>\n",
       "    <tr>\n",
       "      <th>0</th>\n",
       "      <td>1</td>\n",
       "      <td>0</td>\n",
       "      <td>0</td>\n",
       "      <td>1</td>\n",
       "      <td>-1.333661</td>\n",
       "      <td>-1.092737</td>\n",
       "      <td>0.993213</td>\n",
       "      <td>0.0</td>\n",
       "      <td>-0.660992</td>\n",
       "      <td>-0.943854</td>\n",
       "      <td>2011</td>\n",
       "      <td>1</td>\n",
       "      <td>2.833213</td>\n",
       "    </tr>\n",
       "    <tr>\n",
       "      <th>1</th>\n",
       "      <td>1</td>\n",
       "      <td>0</td>\n",
       "      <td>0</td>\n",
       "      <td>1</td>\n",
       "      <td>-1.438907</td>\n",
       "      <td>-1.182421</td>\n",
       "      <td>0.941249</td>\n",
       "      <td>0.0</td>\n",
       "      <td>-0.560908</td>\n",
       "      <td>-0.818052</td>\n",
       "      <td>2011</td>\n",
       "      <td>1</td>\n",
       "      <td>3.713572</td>\n",
       "    </tr>\n",
       "    <tr>\n",
       "      <th>2</th>\n",
       "      <td>1</td>\n",
       "      <td>0</td>\n",
       "      <td>0</td>\n",
       "      <td>1</td>\n",
       "      <td>-1.438907</td>\n",
       "      <td>-1.182421</td>\n",
       "      <td>0.941249</td>\n",
       "      <td>0.0</td>\n",
       "      <td>-0.620958</td>\n",
       "      <td>-0.851158</td>\n",
       "      <td>2011</td>\n",
       "      <td>1</td>\n",
       "      <td>3.496508</td>\n",
       "    </tr>\n",
       "    <tr>\n",
       "      <th>3</th>\n",
       "      <td>1</td>\n",
       "      <td>0</td>\n",
       "      <td>0</td>\n",
       "      <td>1</td>\n",
       "      <td>-1.333661</td>\n",
       "      <td>-1.092737</td>\n",
       "      <td>0.681430</td>\n",
       "      <td>0.0</td>\n",
       "      <td>-0.660992</td>\n",
       "      <td>-0.963717</td>\n",
       "      <td>2011</td>\n",
       "      <td>1</td>\n",
       "      <td>2.639057</td>\n",
       "    </tr>\n",
       "    <tr>\n",
       "      <th>4</th>\n",
       "      <td>1</td>\n",
       "      <td>0</td>\n",
       "      <td>0</td>\n",
       "      <td>1</td>\n",
       "      <td>-1.333661</td>\n",
       "      <td>-1.092737</td>\n",
       "      <td>0.681430</td>\n",
       "      <td>0.0</td>\n",
       "      <td>-0.721042</td>\n",
       "      <td>-1.023307</td>\n",
       "      <td>2011</td>\n",
       "      <td>1</td>\n",
       "      <td>0.693147</td>\n",
       "    </tr>\n",
       "  </tbody>\n",
       "</table>\n",
       "</div>"
      ],
      "text/plain": [
       "   season  holiday  workingday  weather      temp     atemp  humidity  \\\n",
       "0       1        0           0        1 -1.333661 -1.092737  0.993213   \n",
       "1       1        0           0        1 -1.438907 -1.182421  0.941249   \n",
       "2       1        0           0        1 -1.438907 -1.182421  0.941249   \n",
       "3       1        0           0        1 -1.333661 -1.092737  0.681430   \n",
       "4       1        0           0        1 -1.333661 -1.092737  0.681430   \n",
       "\n",
       "   windspeed    casual  registered  year  month     count  \n",
       "0        0.0 -0.660992   -0.943854  2011      1  2.833213  \n",
       "1        0.0 -0.560908   -0.818052  2011      1  3.713572  \n",
       "2        0.0 -0.620958   -0.851158  2011      1  3.496508  \n",
       "3        0.0 -0.660992   -0.963717  2011      1  2.639057  \n",
       "4        0.0 -0.721042   -1.023307  2011      1  0.693147  "
      ]
     },
     "execution_count": 11,
     "metadata": {},
     "output_type": "execute_result"
    }
   ],
   "source": [
    "def moveCountToEnd(df):\n",
    "    df = df[[c for c in df if c not in ['count']] + ['count']]\n",
    "    return df\n",
    "\n",
    "onehot_df = moveCountToEnd(onehot_df)\n",
    "scaled_df = moveCountToEnd(scaled_df)\n",
    "scaled_df.head(5)"
   ]
  },
  {
   "cell_type": "code",
   "execution_count": 12,
   "metadata": {},
   "outputs": [],
   "source": [
    "from sklearn.linear_model import LinearRegression\n",
    "from sklearn.tree import DecisionTreeRegressor\n",
    "from sklearn.ensemble import RandomForestRegressor\n",
    "from sklearn.ensemble import GradientBoostingRegressor\n",
    "from xgboost import XGBRegressor\n",
    "from lightgbm import LGBMRegressor\n",
    "\n",
    "LinearRegression = LinearRegression()\n",
    "DecisionTree = DecisionTreeRegressor(random_state=0, max_depth=6)\n",
    "RandomForest = RandomForestRegressor(random_state=0, n_estimators=1000)\n",
    "GradientBoost = GradientBoostingRegressor(random_state=0, n_estimators=1000)\n",
    "XGB = XGBRegressor(n_estimators=1000)\n",
    "LGBM = LGBMRegressor(n_estimators=1000)\n",
    "\n",
    "models = [LinearRegression, DecisionTree, RandomForest, GradientBoost, XGB, LGBM]\n",
    "models_names = ['LinearRegression', 'DecisionTree', 'RandomForest', 'GradientBoost', 'XGB', 'LGBM']"
   ]
  },
  {
   "cell_type": "code",
   "execution_count": 13,
   "metadata": {},
   "outputs": [],
   "source": [
    "from sklearn.model_selection import train_test_split\n",
    "from sklearn.metrics import mean_squared_error, r2_score\n",
    "\n",
    "def trainDf(typeOfDf, df, models):\n",
    "    X_train, X_test, y_train, y_test = train_test_split(df.iloc[:, :-1], df.iloc[:, -1], test_size=0.2, random_state=0)\n",
    "    y_test = np.exp(y_test) - 1\n",
    "    \n",
    "    eval_df_dict = dict()\n",
    "    \n",
    "    for ind in range(len(models)):\n",
    "        model = models[ind]\n",
    "        name = models_names[ind]\n",
    "        model.fit(X_train ,y_train)\n",
    "        y_preds = model.predict(X_test)\n",
    "        \n",
    "        y_preds = np.exp(y_preds) - 1\n",
    "        \n",
    "        mse = mean_squared_error(y_test, y_preds)\n",
    "        rmse = np.sqrt(mse)\n",
    "        \n",
    "        eval_df_dict[name] = [np.round(mse, 3), np.round(rmse, 3), np.round(r2_score(y_test, y_preds), 3)]\n",
    "        \n",
    "        #print(f'{type(model)}')\n",
    "        #print(f'{typeOfDf} MSE : {mse:.3f} , RMSE : {rmse:.3F}')\n",
    "        #print(f'{typeOfDf} Variance score : {r2_score(y_test, y_preds):.3f}\\n\\n')\n",
    "    eval_df = pd.DataFrame(eval_df_dict, index=['mse', 'rmse', 'r2'])\n",
    "    with pd.option_context('display.max_rows', None, 'display.max_columns', None):\n",
    "        print(eval_df)"
   ]
  },
  {
   "cell_type": "code",
   "execution_count": 14,
   "metadata": {},
   "outputs": [
    {
     "name": "stdout",
     "output_type": "stream",
     "text": [
      "      LinearRegression  DecisionTree  RandomForest  GradientBoost    XGB  \\\n",
      "mse         421226.576       500.775         8.185          6.258  9.223   \n",
      "rmse           649.020        22.378         2.861          2.502  3.037   \n",
      "r2             -11.678         0.985         1.000          1.000  1.000   \n",
      "\n",
      "        LGBM  \n",
      "mse   10.686  \n",
      "rmse   3.269  \n",
      "r2     1.000  \n",
      "      LinearRegression  DecisionTree  RandomForest  GradientBoost    XGB  \\\n",
      "mse         412242.214       500.775         8.089          5.809  8.570   \n",
      "rmse           642.061        22.378         2.844          2.410  2.927   \n",
      "r2             -11.407         0.985         1.000          1.000  1.000   \n",
      "\n",
      "       LGBM  \n",
      "mse   9.977  \n",
      "rmse  3.159  \n",
      "r2    1.000  \n"
     ]
    }
   ],
   "source": [
    "trainDf('Label Encoded', scaled_df, models)\n",
    "trainDf('Onehot Encoded', onehot_df, models)"
   ]
  },
  {
   "cell_type": "code",
   "execution_count": 15,
   "metadata": {},
   "outputs": [
    {
     "name": "stdout",
     "output_type": "stream",
     "text": [
      "      LinearRegression  DecisionTree  RandomForest  GradientBoost  \\\n",
      "mse       1.023503e+09  6.697069e+08  4.258801e+08   5.681017e+08   \n",
      "rmse      3.199223e+04  2.587870e+04  2.063686e+04   2.383488e+04   \n",
      "r2        5.060000e-01  6.770000e-01  7.940000e-01   7.260000e-01   \n",
      "\n",
      "               XGB          LGBM  \n",
      "mse   5.830140e+08  5.019011e+08  \n",
      "rmse  2.414568e+04  2.240315e+04  \n",
      "r2    7.180000e-01  7.580000e-01  \n"
     ]
    }
   ],
   "source": [
    "#scaling 없이 학습시도\n",
    "trainDf('Not scaled : ', bike_df, models)"
   ]
  },
  {
   "cell_type": "code",
   "execution_count": 16,
   "metadata": {},
   "outputs": [
    {
     "name": "stdout",
     "output_type": "stream",
     "text": [
      "      LinearRegression  DecisionTree  RandomForest  GradientBoost    XGB  \\\n",
      "mse         416648.516       500.775         8.231          6.178  8.728   \n",
      "rmse           645.483        22.378         2.869          2.486  2.954   \n",
      "r2             -11.540         0.985         1.000          1.000  1.000   \n",
      "\n",
      "        LGBM  \n",
      "mse   10.627  \n",
      "rmse   3.260  \n",
      "r2     1.000  \n"
     ]
    }
   ],
   "source": [
    "# scaling을 안하면 제대로 학습이 안됨\n",
    "# label encoding보다 one hot encoding이 조금 더 성능이 좋다\n",
    "\n",
    "#month가 season과 관련성이 있다고 판단, month를 지우고 다시 학습\n",
    "\n",
    "no_df = onehot_df.drop(columns=['month'])\n",
    "\n",
    "trainDf('No month: ', no_df, models)"
   ]
  },
  {
   "cell_type": "code",
   "execution_count": null,
   "metadata": {},
   "outputs": [],
   "source": []
  }
 ],
 "metadata": {
  "kernelspec": {
   "display_name": "Python 3",
   "language": "python",
   "name": "python3"
  },
  "language_info": {
   "codemirror_mode": {
    "name": "ipython",
    "version": 3
   },
   "file_extension": ".py",
   "mimetype": "text/x-python",
   "name": "python",
   "nbconvert_exporter": "python",
   "pygments_lexer": "ipython3",
   "version": "3.8.3"
  }
 },
 "nbformat": 4,
 "nbformat_minor": 5
}

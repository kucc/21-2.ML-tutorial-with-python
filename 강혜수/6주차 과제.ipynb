{
 "cells": [
  {
   "cell_type": "markdown",
   "id": "criminal-chicago",
   "metadata": {},
   "source": [
    "## 자전거 대여 수요 예측"
   ]
  },
  {
   "cell_type": "code",
   "execution_count": 54,
   "id": "hungry-contributor",
   "metadata": {},
   "outputs": [
    {
     "name": "stdout",
     "output_type": "stream",
     "text": [
      "(10886, 12)\n"
     ]
    },
    {
     "data": {
      "text/html": [
       "<div>\n",
       "<style scoped>\n",
       "    .dataframe tbody tr th:only-of-type {\n",
       "        vertical-align: middle;\n",
       "    }\n",
       "\n",
       "    .dataframe tbody tr th {\n",
       "        vertical-align: top;\n",
       "    }\n",
       "\n",
       "    .dataframe thead th {\n",
       "        text-align: right;\n",
       "    }\n",
       "</style>\n",
       "<table border=\"1\" class=\"dataframe\">\n",
       "  <thead>\n",
       "    <tr style=\"text-align: right;\">\n",
       "      <th></th>\n",
       "      <th>datetime</th>\n",
       "      <th>season</th>\n",
       "      <th>holiday</th>\n",
       "      <th>workingday</th>\n",
       "      <th>weather</th>\n",
       "      <th>temp</th>\n",
       "      <th>atemp</th>\n",
       "      <th>humidity</th>\n",
       "      <th>windspeed</th>\n",
       "      <th>casual</th>\n",
       "      <th>registered</th>\n",
       "      <th>count</th>\n",
       "    </tr>\n",
       "  </thead>\n",
       "  <tbody>\n",
       "    <tr>\n",
       "      <th>0</th>\n",
       "      <td>2011-01-01 00:00:00</td>\n",
       "      <td>1</td>\n",
       "      <td>0</td>\n",
       "      <td>0</td>\n",
       "      <td>1</td>\n",
       "      <td>9.84</td>\n",
       "      <td>14.395</td>\n",
       "      <td>81</td>\n",
       "      <td>0.0</td>\n",
       "      <td>3</td>\n",
       "      <td>13</td>\n",
       "      <td>16</td>\n",
       "    </tr>\n",
       "    <tr>\n",
       "      <th>1</th>\n",
       "      <td>2011-01-01 01:00:00</td>\n",
       "      <td>1</td>\n",
       "      <td>0</td>\n",
       "      <td>0</td>\n",
       "      <td>1</td>\n",
       "      <td>9.02</td>\n",
       "      <td>13.635</td>\n",
       "      <td>80</td>\n",
       "      <td>0.0</td>\n",
       "      <td>8</td>\n",
       "      <td>32</td>\n",
       "      <td>40</td>\n",
       "    </tr>\n",
       "    <tr>\n",
       "      <th>2</th>\n",
       "      <td>2011-01-01 02:00:00</td>\n",
       "      <td>1</td>\n",
       "      <td>0</td>\n",
       "      <td>0</td>\n",
       "      <td>1</td>\n",
       "      <td>9.02</td>\n",
       "      <td>13.635</td>\n",
       "      <td>80</td>\n",
       "      <td>0.0</td>\n",
       "      <td>5</td>\n",
       "      <td>27</td>\n",
       "      <td>32</td>\n",
       "    </tr>\n",
       "    <tr>\n",
       "      <th>3</th>\n",
       "      <td>2011-01-01 03:00:00</td>\n",
       "      <td>1</td>\n",
       "      <td>0</td>\n",
       "      <td>0</td>\n",
       "      <td>1</td>\n",
       "      <td>9.84</td>\n",
       "      <td>14.395</td>\n",
       "      <td>75</td>\n",
       "      <td>0.0</td>\n",
       "      <td>3</td>\n",
       "      <td>10</td>\n",
       "      <td>13</td>\n",
       "    </tr>\n",
       "    <tr>\n",
       "      <th>4</th>\n",
       "      <td>2011-01-01 04:00:00</td>\n",
       "      <td>1</td>\n",
       "      <td>0</td>\n",
       "      <td>0</td>\n",
       "      <td>1</td>\n",
       "      <td>9.84</td>\n",
       "      <td>14.395</td>\n",
       "      <td>75</td>\n",
       "      <td>0.0</td>\n",
       "      <td>0</td>\n",
       "      <td>1</td>\n",
       "      <td>1</td>\n",
       "    </tr>\n",
       "  </tbody>\n",
       "</table>\n",
       "</div>"
      ],
      "text/plain": [
       "              datetime  season  holiday  workingday  weather  temp   atemp  \\\n",
       "0  2011-01-01 00:00:00       1        0           0        1  9.84  14.395   \n",
       "1  2011-01-01 01:00:00       1        0           0        1  9.02  13.635   \n",
       "2  2011-01-01 02:00:00       1        0           0        1  9.02  13.635   \n",
       "3  2011-01-01 03:00:00       1        0           0        1  9.84  14.395   \n",
       "4  2011-01-01 04:00:00       1        0           0        1  9.84  14.395   \n",
       "\n",
       "   humidity  windspeed  casual  registered  count  \n",
       "0        81        0.0       3          13     16  \n",
       "1        80        0.0       8          32     40  \n",
       "2        80        0.0       5          27     32  \n",
       "3        75        0.0       3          10     13  \n",
       "4        75        0.0       0           1      1  "
      ]
     },
     "execution_count": 54,
     "metadata": {},
     "output_type": "execute_result"
    }
   ],
   "source": [
    "import numpy as np\n",
    "import pandas as pd\n",
    "import seaborn as sns\n",
    "import matplotlib.pyplot as plt\n",
    "%matplotlib inline\n",
    "\n",
    "import warnings\n",
    "warnings.filterwarnings(\"ignore\", category=RuntimeWarning)\n",
    "\n",
    "bike_df = pd.read_csv('train_bike.csv')\n",
    "print(bike_df.shape)\n",
    "bike_df.head(5)"
   ]
  },
  {
   "cell_type": "code",
   "execution_count": 55,
   "id": "liberal-glasgow",
   "metadata": {},
   "outputs": [
    {
     "name": "stdout",
     "output_type": "stream",
     "text": [
      "<class 'pandas.core.frame.DataFrame'>\n",
      "RangeIndex: 10886 entries, 0 to 10885\n",
      "Data columns (total 12 columns):\n",
      " #   Column      Non-Null Count  Dtype  \n",
      "---  ------      --------------  -----  \n",
      " 0   datetime    10886 non-null  object \n",
      " 1   season      10886 non-null  int64  \n",
      " 2   holiday     10886 non-null  int64  \n",
      " 3   workingday  10886 non-null  int64  \n",
      " 4   weather     10886 non-null  int64  \n",
      " 5   temp        10886 non-null  float64\n",
      " 6   atemp       10886 non-null  float64\n",
      " 7   humidity    10886 non-null  int64  \n",
      " 8   windspeed   10886 non-null  float64\n",
      " 9   casual      10886 non-null  int64  \n",
      " 10  registered  10886 non-null  int64  \n",
      " 11  count       10886 non-null  int64  \n",
      "dtypes: float64(3), int64(8), object(1)\n",
      "memory usage: 1020.7+ KB\n"
     ]
    }
   ],
   "source": [
    "bike_df.info()"
   ]
  },
  {
   "cell_type": "code",
   "execution_count": 56,
   "id": "95de6638",
   "metadata": {},
   "outputs": [
    {
     "name": "stdout",
     "output_type": "stream",
     "text": [
      "<class 'pandas.core.frame.DataFrame'>\n",
      "RangeIndex: 10886 entries, 0 to 10885\n",
      "Data columns (total 13 columns):\n",
      " #   Column      Non-Null Count  Dtype  \n",
      "---  ------      --------------  -----  \n",
      " 0   season      10886 non-null  int64  \n",
      " 1   holiday     10886 non-null  int64  \n",
      " 2   workingday  10886 non-null  int64  \n",
      " 3   weather     10886 non-null  int64  \n",
      " 4   temp        10886 non-null  float64\n",
      " 5   atemp       10886 non-null  float64\n",
      " 6   humidity    10886 non-null  int64  \n",
      " 7   windspeed   10886 non-null  float64\n",
      " 8   casual      10886 non-null  int64  \n",
      " 9   registered  10886 non-null  int64  \n",
      " 10  count       10886 non-null  int64  \n",
      " 11  year        10886 non-null  int64  \n",
      " 12  month       10886 non-null  int64  \n",
      "dtypes: float64(3), int64(10)\n",
      "memory usage: 1.1 MB\n"
     ]
    }
   ],
   "source": [
    "#날짜 데이터 분리\n",
    "bike_df['datetime'] = pd.to_datetime(bike_df['datetime'])\n",
    "bike_df['year'] = bike_df['datetime'].dt.year\n",
    "bike_df['month'] = bike_df['datetime'].dt.month\n",
    "bike_df.drop('datetime', axis=1, inplace=True)\n",
    "bike_df.info()\n",
    "#이제 전부 정수/실수로 구성되어있음 + 결측치 없음\n",
    "\n",
    "#casual:미등록 사용자 대여수 / registerd:등록된 사용자 대여수 / count=causual+registered\n",
    "bike_df.drop('casual', axis=1, inplace = True)\n",
    "bike_df.drop('registered', axis=1, inplace = True)"
   ]
  },
  {
   "cell_type": "code",
   "execution_count": 57,
   "id": "c7d77508",
   "metadata": {},
   "outputs": [
    {
     "name": "stdout",
     "output_type": "stream",
     "text": [
      "MSE : 21465.253 , RMSE : 146.510\n"
     ]
    }
   ],
   "source": [
    "#라벨 인코딩\n",
    "from sklearn.model_selection import train_test_split, GridSearchCV\n",
    "from sklearn.linear_model import LinearRegression, Ridge, Lasso\n",
    "from sklearn.metrics import mean_squared_error\n",
    "\n",
    "y_target = bike_df['count']\n",
    "X_features = bike_df.drop(['count'], axis = 1, inplace = False)\n",
    "\n",
    "X_train, X_test, y_train, y_test = train_test_split(X_features, y_target, test_size=0.3, random_state=156)\n",
    " \n",
    "lr = LinearRegression()\n",
    "lr.fit(X_train ,y_train)\n",
    "y_preds = lr.predict(X_test)\n",
    "mse = mean_squared_error(y_test, y_preds)\n",
    "rmse = np.sqrt(mse)\n",
    "\n",
    "print('MSE : {0:.3f} , RMSE : {1:.3F}'.format(mse , rmse))"
   ]
  },
  {
   "cell_type": "code",
   "execution_count": 58,
   "id": "5037ac4f",
   "metadata": {},
   "outputs": [
    {
     "name": "stdout",
     "output_type": "stream",
     "text": [
      "MSE : 20852.589 , RMSE : 144.404\n"
     ]
    }
   ],
   "source": [
    "#원핫 인코딩\n",
    "#더 줄어든 것을 볼 수 있음 ! 효과 있당 @_@\n",
    "bike_df = pd.get_dummies(bike_df, columns=['holiday','workingday','season', 'weather', 'year', 'month'])\n",
    "\n",
    "y_target = bike_df['count']\n",
    "X_features_ohe = bike_df.drop(['count'], axis = 1, inplace = False)\n",
    "\n",
    "X_train, X_test, y_train, y_test = train_test_split(X_features_ohe, y_target, test_size=0.3, random_state=156)\n",
    "\n",
    "lr = LinearRegression()\n",
    "lr.fit(X_train ,y_train)\n",
    "y_preds = lr.predict(X_test)\n",
    "mse = mean_squared_error(y_test, y_preds)\n",
    "rmse = np.sqrt(mse)\n",
    "\n",
    "print('MSE : {0:.3f} , RMSE : {1:.3F}'.format(mse , rmse))"
   ]
  },
  {
   "cell_type": "code",
   "execution_count": 59,
   "id": "ca775d84",
   "metadata": {},
   "outputs": [
    {
     "data": {
      "text/plain": [
       "weather_4       104.5\n",
       "season_4         49.2\n",
       "month_9          44.7\n",
       "year_2012        38.5\n",
       "month_12         28.6\n",
       "month_5          23.6\n",
       "month_11         16.9\n",
       "temp             11.0\n",
       "month_1           8.4\n",
       "holiday_0         6.2\n",
       "month_2           5.4\n",
       "month_10          3.7\n",
       "season_1          3.1\n",
       "atemp             1.2\n",
       "month_4           1.0\n",
       "windspeed         0.5\n",
       "workingday_0     -0.0\n",
       "workingday_1      0.0\n",
       "humidity         -2.7\n",
       "holiday_1        -6.2\n",
       "season_2         -9.4\n",
       "month_3         -10.7\n",
       "weather_2       -25.0\n",
       "month_8         -32.5\n",
       "weather_1       -33.0\n",
       "month_6         -34.1\n",
       "year_2011       -38.5\n",
       "season_3        -42.9\n",
       "weather_3       -46.5\n",
       "month_7         -55.2\n",
       "dtype: float64"
      ]
     },
     "execution_count": 59,
     "metadata": {},
     "output_type": "execute_result"
    }
   ],
   "source": [
    "#원핫인코딩 회귀상관계수\n",
    "coeff = pd.Series(data=np.round(lr.coef_, 1), index=X_features_ohe.columns )\n",
    "coeff.sort_values(ascending=False)"
   ]
  },
  {
   "cell_type": "code",
   "execution_count": 60,
   "id": "ceacf808",
   "metadata": {},
   "outputs": [
    {
     "name": "stderr",
     "output_type": "stream",
     "text": [
      "/Users/hyesu/opt/anaconda3/lib/python3.8/site-packages/seaborn/distributions.py:2557: FutureWarning: `distplot` is a deprecated function and will be removed in a future version. Please adapt your code to use either `displot` (a figure-level function with similar flexibility) or `histplot` (an axes-level function for histograms).\n",
      "  warnings.warn(msg, FutureWarning)\n"
     ]
    },
    {
     "data": {
      "text/plain": [
       "<AxesSubplot:xlabel='count', ylabel='Density'>"
      ]
     },
     "execution_count": 60,
     "metadata": {},
     "output_type": "execute_result"
    },
    {
     "data": {
      "image/png": "[encoded data removed]",
      "text/plain": [
       "<Figure size 432x288 with 1 Axes>"
      ]
     },
     "metadata": {
      "needs_background": "light"
     },
     "output_type": "display_data"
    }
   ],
   "source": [
    "sns.distplot(y_target)"
   ]
  },
  {
   "cell_type": "code",
   "execution_count": 61,
   "id": "fdef1fd2",
   "metadata": {},
   "outputs": [
    {
     "name": "stderr",
     "output_type": "stream",
     "text": [
      "/Users/hyesu/opt/anaconda3/lib/python3.8/site-packages/seaborn/distributions.py:2557: FutureWarning: `distplot` is a deprecated function and will be removed in a future version. Please adapt your code to use either `displot` (a figure-level function with similar flexibility) or `histplot` (an axes-level function for histograms).\n",
      "  warnings.warn(msg, FutureWarning)\n"
     ]
    },
    {
     "data": {
      "text/plain": [
       "<AxesSubplot:xlabel='count', ylabel='Density'>"
      ]
     },
     "execution_count": 61,
     "metadata": {},
     "output_type": "execute_result"
    },
    {
     "data": {
      "image/png": "[encoded data removed]",
      "text/plain": [
       "<Figure size 432x288 with 1 Axes>"
      ]
     },
     "metadata": {
      "needs_background": "light"
     },
     "output_type": "display_data"
    }
   ],
   "source": [
    "y_target_log = np.log1p(y_target)\n",
    "sns.distplot(y_target_log)"
   ]
  },
  {
   "cell_type": "code",
   "execution_count": 62,
   "id": "372a6fec",
   "metadata": {},
   "outputs": [
    {
     "name": "stdout",
     "output_type": "stream",
     "text": [
      "MSE : 25603.217 , RMSE : 160.010\n"
     ]
    }
   ],
   "source": [
    "y_target_log = np.log1p(y_target)\n",
    "\n",
    "X_train, X_test, y_train, y_test = train_test_split(X_features, y_target_log, test_size=0.3, random_state=156)\n",
    "\n",
    "# Linear Regression OLS로 학습/예측/평가 수행. \n",
    "lr = LinearRegression()\n",
    "lr.fit(X_train ,y_train)\n",
    "y_preds = lr.predict(X_test)\n",
    "\n",
    "#원래값으로 되돌리기\n",
    "y_test_exp = np.expm1(y_test)\n",
    "y_preds_exp = np.expm1(y_preds)\n",
    "\n",
    "mse = mean_squared_error(y_test_exp, y_preds_exp)\n",
    "rmse = np.sqrt(mse)\n",
    "\n",
    "print('MSE : {0:.3f} , RMSE : {1:.3F}'.format(mse , rmse))"
   ]
  },
  {
   "cell_type": "code",
   "execution_count": 63,
   "id": "df4428b3",
   "metadata": {},
   "outputs": [
    {
     "name": "stdout",
     "output_type": "stream",
     "text": [
      "MSE : 25611.193 , RMSE : 160.035\n"
     ]
    }
   ],
   "source": [
    "#릿지\n",
    "from sklearn.linear_model import Ridge\n",
    "from sklearn.model_selection import cross_val_score\n",
    "\n",
    "X_train, X_test, y_train, y_test = train_test_split(X_features, y_target_log, test_size=0.3, random_state=156)\n",
    "\n",
    "ridge = Ridge(alpha = 10)\n",
    "ridge.fit(X_train ,y_train)\n",
    "y_preds = ridge.predict(X_test)\n",
    "\n",
    "y_test_exp = np.expm1(y_test)\n",
    "y_preds_exp = np.expm1(y_preds)\n",
    "\n",
    "mse = mean_squared_error(y_test_exp, y_preds_exp)\n",
    "rmse = np.sqrt(mse)\n",
    "\n",
    "print('MSE : {0:.3f} , RMSE : {1:.3F}'.format(mse , rmse))"
   ]
  },
  {
   "cell_type": "code",
   "execution_count": 64,
   "id": "df8e50b7",
   "metadata": {},
   "outputs": [
    {
     "name": "stdout",
     "output_type": "stream",
     "text": [
      "alpha가 0일 때, MSE : 25603.217 , RMSE : 160.010\n",
      "alpha가 0.1일 때, MSE : 25603.297 , RMSE : 160.010\n",
      "alpha가 1일 때, MSE : 25604.017 , RMSE : 160.013\n",
      "alpha가 10일 때, MSE : 25611.193 , RMSE : 160.035\n",
      "alpha가 100일 때, MSE : 25680.044 , RMSE : 160.250\n"
     ]
    }
   ],
   "source": [
    "# alpha값 하이퍼파라미터튜닝\n",
    "# alpha 값을 변화시키면서 어떤게 제일 좋은건지\n",
    "# 조건이 여러개일 땐 gridsearchCV이지만 alpha 하나여서 그냥 for문 돌림\n",
    "alphas = [0 , 0.1 , 1 , 10 , 100]\n",
    "\n",
    "# alphas list 값을 iteration하면서 alpha에 따른 평균 rmse 구함.\n",
    "# alpha 100 : 과적합을 제한할 수록 점점 더 값이 나아짐 --> alpha값이 커질수록 회귀 작아짐\n",
    "\n",
    "for alpha in alphas :\n",
    "    ridge = Ridge(alpha = alpha)\n",
    "    \n",
    "    ridge.fit(X_train ,y_train)\n",
    "    y_preds = ridge.predict(X_test)\n",
    "\n",
    "    y_test_exp = np.expm1(y_test)\n",
    "    y_preds_exp = np.expm1(y_preds)\n",
    "\n",
    "    mse = mean_squared_error(y_test_exp, y_preds_exp)\n",
    "    rmse = np.sqrt(mse)\n",
    "\n",
    "    print('alpha가 {0}일 때, MSE : {1:.3f} , RMSE : {2:.3F}'.format(alpha,mse , rmse))"
   ]
  },
  {
   "cell_type": "code",
   "execution_count": 65,
   "id": "eb20df83",
   "metadata": {},
   "outputs": [
    {
     "name": "stdout",
     "output_type": "stream",
     "text": [
      "alpha 0 일 때 회귀계수 :\n",
      "year          0.390593\n",
      "weather       0.100821\n",
      "month         0.083228\n",
      "atemp         0.042303\n",
      "windspeed     0.009499\n",
      "temp          0.009270\n",
      "humidity     -0.024849\n",
      "holiday      -0.036352\n",
      "season       -0.062552\n",
      "workingday   -0.073275\n",
      "dtype: float64 \n",
      "\n",
      "alpha 0.1 일 때 회귀계수 :\n",
      "year          0.390573\n",
      "weather       0.100817\n",
      "month         0.083223\n",
      "atemp         0.042303\n",
      "windspeed     0.009499\n",
      "temp          0.009270\n",
      "humidity     -0.024849\n",
      "holiday      -0.036332\n",
      "season       -0.062537\n",
      "workingday   -0.073269\n",
      "dtype: float64 \n",
      "\n",
      "alpha 1 일 때 회귀계수 :\n",
      "year          0.390388\n",
      "weather       0.100784\n",
      "month         0.083178\n",
      "atemp         0.042301\n",
      "windspeed     0.009498\n",
      "temp          0.009272\n",
      "humidity     -0.024849\n",
      "holiday      -0.036155\n",
      "season       -0.062398\n",
      "workingday   -0.073211\n",
      "dtype: float64 \n",
      "\n",
      "alpha 10 일 때 회귀계수 :\n",
      "year          0.388553\n",
      "weather       0.100449\n",
      "month         0.082735\n",
      "atemp         0.042286\n",
      "windspeed     0.009495\n",
      "temp          0.009293\n",
      "humidity     -0.024847\n",
      "holiday      -0.034475\n",
      "season       -0.061037\n",
      "workingday   -0.072642\n",
      "dtype: float64 \n",
      "\n",
      "alpha 100 일 때 회귀계수 :\n",
      "year          0.371105\n",
      "weather       0.097239\n",
      "month         0.078944\n",
      "atemp         0.042107\n",
      "temp          0.009522\n",
      "windspeed     0.009468\n",
      "holiday      -0.023311\n",
      "humidity     -0.024830\n",
      "season       -0.049432\n",
      "workingday   -0.067780\n",
      "dtype: float64 \n",
      "\n"
     ]
    }
   ],
   "source": [
    "for alpha in alphas :\n",
    "    ridge = Ridge(alpha = alpha)\n",
    "    ridge.fit(X_train , y_train)\n",
    "    \n",
    "    coeff = pd.Series(data=ridge.coef_, index=X_train.columns)    \n",
    "    print('alpha {0} 일 때 회귀계수 :'.format(alpha))\n",
    "    print(coeff.sort_values(ascending=False),'\\n')\n",
    "#혼자서 너무 튀는 회귀계수가 있으면 문제가 있는 것 -- alpha를 바꾸면서 과적합문제 조정 가능"
   ]
  },
  {
   "cell_type": "code",
   "execution_count": 66,
   "id": "ac777206",
   "metadata": {},
   "outputs": [
    {
     "name": "stdout",
     "output_type": "stream",
     "text": [
      "MSE : 30079.825 , RMSE : 173.435\n"
     ]
    }
   ],
   "source": [
    "#라쏘\n",
    "from sklearn.linear_model import Lasso\n",
    "\n",
    "X_train, X_test, y_train, y_test = train_test_split(X_features, y_target_log, test_size=0.3, random_state=156)\n",
    "\n",
    "lasso = Lasso(alpha = 1.0)\n",
    "lasso.fit(X_train ,y_train)\n",
    "y_preds = lasso.predict(X_test)\n",
    "\n",
    "y_test_exp = np.expm1(y_test)\n",
    "y_preds_exp = np.expm1(y_preds)\n",
    "\n",
    "mse = mean_squared_error(y_test_exp, y_preds_exp)\n",
    "rmse = np.sqrt(mse)\n",
    "\n",
    "print('MSE : {0:.3f} , RMSE : {1:.3F}'.format(mse , rmse))"
   ]
  },
  {
   "cell_type": "code",
   "execution_count": 67,
   "id": "71da4674",
   "metadata": {},
   "outputs": [
    {
     "name": "stdout",
     "output_type": "stream",
     "text": [
      "alpha가 0.01일 때, MSE : 25819.566 , RMSE : 160.685\n",
      "alpha가 0.07일 때, MSE : 27005.569 , RMSE : 164.334\n",
      "alpha가 0.1일 때, MSE : 27755.470 , RMSE : 166.600\n",
      "alpha가 0.5일 때, MSE : 28947.224 , RMSE : 170.139\n",
      "alpha가 1일 때, MSE : 30079.825 , RMSE : 173.435\n",
      "alpha가 3일 때, MSE : 34665.670 , RMSE : 186.187\n",
      "alpha가 10일 때, MSE : 40495.671 , RMSE : 201.235\n"
     ]
    }
   ],
   "source": [
    "## 라쏘에서는 alpha가 작을수록 rmse가 더 작았음\n",
    "# alpha값 하이퍼파라미터튜닝\n",
    "alphas = [0.01, 0.07, 0.1, 0.5, 1, 3, 10]\n",
    "\n",
    "# alphas list 값을 iteration하면서 alpha에 따른 rmse 구함.\n",
    "for alpha in alphas :\n",
    "    lasso = Lasso(alpha = alpha)\n",
    "    \n",
    "    lasso.fit(X_train ,y_train)\n",
    "    y_preds = lasso.predict(X_test)\n",
    "\n",
    "    y_test_exp = np.expm1(y_test)\n",
    "    y_preds_exp = np.expm1(y_preds)\n",
    "\n",
    "    mse = mean_squared_error(y_test_exp, y_preds_exp)\n",
    "    rmse = np.sqrt(mse)\n",
    "\n",
    "    print('alpha가 {0}일 때, MSE : {1:.3f} , RMSE : {2:.3F}'.format(alpha,mse , rmse))"
   ]
  },
  {
   "cell_type": "code",
   "execution_count": 68,
   "id": "7ac25129",
   "metadata": {},
   "outputs": [
    {
     "data": {
      "text/html": [
       "<div>\n",
       "<style scoped>\n",
       "    .dataframe tbody tr th:only-of-type {\n",
       "        vertical-align: middle;\n",
       "    }\n",
       "\n",
       "    .dataframe tbody tr th {\n",
       "        vertical-align: top;\n",
       "    }\n",
       "\n",
       "    .dataframe thead th {\n",
       "        text-align: right;\n",
       "    }\n",
       "</style>\n",
       "<table border=\"1\" class=\"dataframe\">\n",
       "  <thead>\n",
       "    <tr style=\"text-align: right;\">\n",
       "      <th></th>\n",
       "      <th>alpha:0.01</th>\n",
       "      <th>alpha:0.07</th>\n",
       "      <th>alpha:0.1</th>\n",
       "      <th>alpha:0.5</th>\n",
       "      <th>alpha:1</th>\n",
       "      <th>alpha:3</th>\n",
       "      <th>alpha:10</th>\n",
       "    </tr>\n",
       "  </thead>\n",
       "  <tbody>\n",
       "    <tr>\n",
       "      <th>year</th>\n",
       "      <td>0.351924</td>\n",
       "      <td>0.112558</td>\n",
       "      <td>0.000000</td>\n",
       "      <td>0.000000</td>\n",
       "      <td>0.000000</td>\n",
       "      <td>0.000000</td>\n",
       "      <td>0.0</td>\n",
       "    </tr>\n",
       "    <tr>\n",
       "      <th>weather</th>\n",
       "      <td>0.069081</td>\n",
       "      <td>0.000000</td>\n",
       "      <td>0.000000</td>\n",
       "      <td>0.000000</td>\n",
       "      <td>0.000000</td>\n",
       "      <td>-0.000000</td>\n",
       "      <td>-0.0</td>\n",
       "    </tr>\n",
       "    <tr>\n",
       "      <th>month</th>\n",
       "      <td>0.062328</td>\n",
       "      <td>0.055908</td>\n",
       "      <td>0.052981</td>\n",
       "      <td>0.016268</td>\n",
       "      <td>0.000000</td>\n",
       "      <td>0.000000</td>\n",
       "      <td>0.0</td>\n",
       "    </tr>\n",
       "    <tr>\n",
       "      <th>atemp</th>\n",
       "      <td>0.041594</td>\n",
       "      <td>0.042371</td>\n",
       "      <td>0.042891</td>\n",
       "      <td>0.049277</td>\n",
       "      <td>0.044279</td>\n",
       "      <td>0.017058</td>\n",
       "      <td>0.0</td>\n",
       "    </tr>\n",
       "    <tr>\n",
       "      <th>temp</th>\n",
       "      <td>0.009920</td>\n",
       "      <td>0.009420</td>\n",
       "      <td>0.009048</td>\n",
       "      <td>0.000000</td>\n",
       "      <td>0.000000</td>\n",
       "      <td>0.000000</td>\n",
       "      <td>0.0</td>\n",
       "    </tr>\n",
       "    <tr>\n",
       "      <th>windspeed</th>\n",
       "      <td>0.009491</td>\n",
       "      <td>0.008457</td>\n",
       "      <td>0.007587</td>\n",
       "      <td>0.000500</td>\n",
       "      <td>0.000000</td>\n",
       "      <td>0.000000</td>\n",
       "      <td>0.0</td>\n",
       "    </tr>\n",
       "    <tr>\n",
       "      <th>season</th>\n",
       "      <td>-0.000000</td>\n",
       "      <td>0.000000</td>\n",
       "      <td>0.000000</td>\n",
       "      <td>0.000000</td>\n",
       "      <td>0.000000</td>\n",
       "      <td>0.000000</td>\n",
       "      <td>0.0</td>\n",
       "    </tr>\n",
       "    <tr>\n",
       "      <th>holiday</th>\n",
       "      <td>-0.000000</td>\n",
       "      <td>0.000000</td>\n",
       "      <td>0.000000</td>\n",
       "      <td>0.000000</td>\n",
       "      <td>0.000000</td>\n",
       "      <td>-0.000000</td>\n",
       "      <td>-0.0</td>\n",
       "    </tr>\n",
       "    <tr>\n",
       "      <th>workingday</th>\n",
       "      <td>-0.021370</td>\n",
       "      <td>-0.000000</td>\n",
       "      <td>-0.000000</td>\n",
       "      <td>-0.000000</td>\n",
       "      <td>-0.000000</td>\n",
       "      <td>-0.000000</td>\n",
       "      <td>-0.0</td>\n",
       "    </tr>\n",
       "    <tr>\n",
       "      <th>humidity</th>\n",
       "      <td>-0.024396</td>\n",
       "      <td>-0.023674</td>\n",
       "      <td>-0.023827</td>\n",
       "      <td>-0.022444</td>\n",
       "      <td>-0.020642</td>\n",
       "      <td>-0.015724</td>\n",
       "      <td>-0.0</td>\n",
       "    </tr>\n",
       "  </tbody>\n",
       "</table>\n",
       "</div>"
      ],
      "text/plain": [
       "            alpha:0.01  alpha:0.07  alpha:0.1  alpha:0.5   alpha:1   alpha:3  \\\n",
       "year          0.351924    0.112558   0.000000   0.000000  0.000000  0.000000   \n",
       "weather       0.069081    0.000000   0.000000   0.000000  0.000000 -0.000000   \n",
       "month         0.062328    0.055908   0.052981   0.016268  0.000000  0.000000   \n",
       "atemp         0.041594    0.042371   0.042891   0.049277  0.044279  0.017058   \n",
       "temp          0.009920    0.009420   0.009048   0.000000  0.000000  0.000000   \n",
       "windspeed     0.009491    0.008457   0.007587   0.000500  0.000000  0.000000   \n",
       "season       -0.000000    0.000000   0.000000   0.000000  0.000000  0.000000   \n",
       "holiday      -0.000000    0.000000   0.000000   0.000000  0.000000 -0.000000   \n",
       "workingday   -0.021370   -0.000000  -0.000000  -0.000000 -0.000000 -0.000000   \n",
       "humidity     -0.024396   -0.023674  -0.023827  -0.022444 -0.020642 -0.015724   \n",
       "\n",
       "            alpha:10  \n",
       "year             0.0  \n",
       "weather         -0.0  \n",
       "month            0.0  \n",
       "atemp            0.0  \n",
       "temp             0.0  \n",
       "windspeed        0.0  \n",
       "season           0.0  \n",
       "holiday         -0.0  \n",
       "workingday      -0.0  \n",
       "humidity        -0.0  "
      ]
     },
     "execution_count": 68,
     "metadata": {},
     "output_type": "execute_result"
    }
   ],
   "source": [
    "coeff_df = pd.DataFrame()\n",
    "for alpha in alphas :\n",
    "    lasso = Lasso(alpha = alpha)\n",
    "    lasso.fit(X_train , y_train)\n",
    "    \n",
    "    coeff = pd.Series(data=lasso.coef_, index=X_train.columns)\n",
    "    colname='alpha:'+str(alpha)\n",
    "    coeff_df[colname] = coeff\n",
    "    \n",
    "sort_column = 'alpha:'+str(alphas[0])\n",
    "coeff_df.sort_values(by=sort_column, ascending=False)\n",
    "\n",
    "# 릿지와 달리 라쏘는 0을 만들 수 있기 때문에 회귀에서 0값이 나오는 것을 알 수 있음\n",
    "# 하다보니 중요하지 않다고 느껴져서 학습모델이 피처를 제거하는 행위임.\n",
    "# 우리가 피처를 제거해가면서 비교하지 않아도 라쏘는 알아서 해줌 : 장단점\n",
    "\n",
    "# 그래서 보통 alpha를 키우면 피처를 너무 날려서 rmse가 안좋아지는 경향이 있음"
   ]
  },
  {
   "cell_type": "code",
   "execution_count": 69,
   "id": "51caf1bf",
   "metadata": {},
   "outputs": [
    {
     "name": "stdout",
     "output_type": "stream",
     "text": [
      "MSE : 25784.320 , RMSE : 160.575\n",
      "MSE : 26590.507 , RMSE : 163.066\n",
      "MSE : 27079.085 , RMSE : 164.557\n",
      "MSE : 28476.613 , RMSE : 168.750\n",
      "MSE : 29564.828 , RMSE : 171.944\n",
      "MSE : 32532.565 , RMSE : 180.368\n",
      "MSE : 35942.804 , RMSE : 189.586\n"
     ]
    }
   ],
   "source": [
    "#엘라스틱넷\n",
    "from sklearn.linear_model import ElasticNet\n",
    "\n",
    "alphas = [0.01, 0.07, 0.1, 0.5, 1, 3, 5]\n",
    "\n",
    "# alphas list 값을 iteration하면서 alpha에 따른 평균 rmse 구함.\n",
    "for alpha in alphas :\n",
    "    elsnet = ElasticNet(alpha = alpha, l1_ratio=0.7)\n",
    "    \n",
    "    elsnet.fit(X_train ,y_train)\n",
    "    y_preds = elsnet.predict(X_test)\n",
    "\n",
    "    y_test_exp = np.expm1(y_test)\n",
    "    y_preds_exp = np.expm1(y_preds)\n",
    "\n",
    "    mse = mean_squared_error(y_test_exp, y_preds_exp)\n",
    "    rmse = np.sqrt(mse)\n",
    "\n",
    "    print('MSE : {0:.3f} , RMSE : {1:.3F}'.format(mse , rmse))"
   ]
  },
  {
   "cell_type": "code",
   "execution_count": 70,
   "id": "52636e8d",
   "metadata": {},
   "outputs": [
    {
     "data": {
      "text/html": [
       "<div>\n",
       "<style scoped>\n",
       "    .dataframe tbody tr th:only-of-type {\n",
       "        vertical-align: middle;\n",
       "    }\n",
       "\n",
       "    .dataframe tbody tr th {\n",
       "        vertical-align: top;\n",
       "    }\n",
       "\n",
       "    .dataframe thead th {\n",
       "        text-align: right;\n",
       "    }\n",
       "</style>\n",
       "<table border=\"1\" class=\"dataframe\">\n",
       "  <thead>\n",
       "    <tr style=\"text-align: right;\">\n",
       "      <th></th>\n",
       "      <th>alpha:0.01</th>\n",
       "      <th>alpha:0.07</th>\n",
       "      <th>alpha:0.1</th>\n",
       "      <th>alpha:0.5</th>\n",
       "      <th>alpha:1</th>\n",
       "      <th>alpha:3</th>\n",
       "      <th>alpha:5</th>\n",
       "    </tr>\n",
       "  </thead>\n",
       "  <tbody>\n",
       "    <tr>\n",
       "      <th>year</th>\n",
       "      <td>0.359240</td>\n",
       "      <td>0.181913</td>\n",
       "      <td>0.100372</td>\n",
       "      <td>0.000000</td>\n",
       "      <td>0.000000</td>\n",
       "      <td>0.00000</td>\n",
       "      <td>0.000000</td>\n",
       "    </tr>\n",
       "    <tr>\n",
       "      <th>weather</th>\n",
       "      <td>0.077863</td>\n",
       "      <td>0.000000</td>\n",
       "      <td>0.000000</td>\n",
       "      <td>0.000000</td>\n",
       "      <td>0.000000</td>\n",
       "      <td>0.00000</td>\n",
       "      <td>-0.000000</td>\n",
       "    </tr>\n",
       "    <tr>\n",
       "      <th>month</th>\n",
       "      <td>0.062655</td>\n",
       "      <td>0.057828</td>\n",
       "      <td>0.055733</td>\n",
       "      <td>0.029647</td>\n",
       "      <td>0.000000</td>\n",
       "      <td>0.00000</td>\n",
       "      <td>0.000000</td>\n",
       "    </tr>\n",
       "    <tr>\n",
       "      <th>atemp</th>\n",
       "      <td>0.041449</td>\n",
       "      <td>0.041558</td>\n",
       "      <td>0.041891</td>\n",
       "      <td>0.045157</td>\n",
       "      <td>0.048164</td>\n",
       "      <td>0.02895</td>\n",
       "      <td>0.010049</td>\n",
       "    </tr>\n",
       "    <tr>\n",
       "      <th>temp</th>\n",
       "      <td>0.010110</td>\n",
       "      <td>0.010206</td>\n",
       "      <td>0.009987</td>\n",
       "      <td>0.005240</td>\n",
       "      <td>0.000000</td>\n",
       "      <td>0.00000</td>\n",
       "      <td>0.000000</td>\n",
       "    </tr>\n",
       "    <tr>\n",
       "      <th>windspeed</th>\n",
       "      <td>0.009484</td>\n",
       "      <td>0.009014</td>\n",
       "      <td>0.008394</td>\n",
       "      <td>0.003077</td>\n",
       "      <td>0.000000</td>\n",
       "      <td>0.00000</td>\n",
       "      <td>0.000000</td>\n",
       "    </tr>\n",
       "    <tr>\n",
       "      <th>season</th>\n",
       "      <td>-0.000000</td>\n",
       "      <td>0.000000</td>\n",
       "      <td>0.000000</td>\n",
       "      <td>0.000000</td>\n",
       "      <td>0.000000</td>\n",
       "      <td>0.00000</td>\n",
       "      <td>0.000000</td>\n",
       "    </tr>\n",
       "    <tr>\n",
       "      <th>holiday</th>\n",
       "      <td>-0.000000</td>\n",
       "      <td>0.000000</td>\n",
       "      <td>0.000000</td>\n",
       "      <td>0.000000</td>\n",
       "      <td>0.000000</td>\n",
       "      <td>0.00000</td>\n",
       "      <td>-0.000000</td>\n",
       "    </tr>\n",
       "    <tr>\n",
       "      <th>humidity</th>\n",
       "      <td>-0.024521</td>\n",
       "      <td>-0.023581</td>\n",
       "      <td>-0.023693</td>\n",
       "      <td>-0.022934</td>\n",
       "      <td>-0.021366</td>\n",
       "      <td>-0.01790</td>\n",
       "      <td>-0.014440</td>\n",
       "    </tr>\n",
       "    <tr>\n",
       "      <th>workingday</th>\n",
       "      <td>-0.035237</td>\n",
       "      <td>-0.000000</td>\n",
       "      <td>-0.000000</td>\n",
       "      <td>-0.000000</td>\n",
       "      <td>-0.000000</td>\n",
       "      <td>-0.00000</td>\n",
       "      <td>-0.000000</td>\n",
       "    </tr>\n",
       "  </tbody>\n",
       "</table>\n",
       "</div>"
      ],
      "text/plain": [
       "            alpha:0.01  alpha:0.07  alpha:0.1  alpha:0.5   alpha:1  alpha:3  \\\n",
       "year          0.359240    0.181913   0.100372   0.000000  0.000000  0.00000   \n",
       "weather       0.077863    0.000000   0.000000   0.000000  0.000000  0.00000   \n",
       "month         0.062655    0.057828   0.055733   0.029647  0.000000  0.00000   \n",
       "atemp         0.041449    0.041558   0.041891   0.045157  0.048164  0.02895   \n",
       "temp          0.010110    0.010206   0.009987   0.005240  0.000000  0.00000   \n",
       "windspeed     0.009484    0.009014   0.008394   0.003077  0.000000  0.00000   \n",
       "season       -0.000000    0.000000   0.000000   0.000000  0.000000  0.00000   \n",
       "holiday      -0.000000    0.000000   0.000000   0.000000  0.000000  0.00000   \n",
       "humidity     -0.024521   -0.023581  -0.023693  -0.022934 -0.021366 -0.01790   \n",
       "workingday   -0.035237   -0.000000  -0.000000  -0.000000 -0.000000 -0.00000   \n",
       "\n",
       "             alpha:5  \n",
       "year        0.000000  \n",
       "weather    -0.000000  \n",
       "month       0.000000  \n",
       "atemp       0.010049  \n",
       "temp        0.000000  \n",
       "windspeed   0.000000  \n",
       "season      0.000000  \n",
       "holiday    -0.000000  \n",
       "humidity   -0.014440  \n",
       "workingday -0.000000  "
      ]
     },
     "execution_count": 70,
     "metadata": {},
     "output_type": "execute_result"
    }
   ],
   "source": [
    "coeff_df = pd.DataFrame()\n",
    "for alpha in alphas :\n",
    "    elsnet = ElasticNet(alpha = alpha, l1_ratio=0.7)\n",
    "    elsnet.fit(X_train, y_train)\n",
    "    \n",
    "    coeff = pd.Series(data=elsnet.coef_, index=X_train.columns)\n",
    "    colname='alpha:'+str(alpha)\n",
    "    coeff_df[colname] = coeff\n",
    "    \n",
    "sort_column = 'alpha:'+str(alphas[0])\n",
    "coeff_df.sort_values(by=sort_column, ascending=False)\n",
    "\n",
    "#라쏘를 사용하기 때문에 0이 되는 회귀계수가 존재함 (피처필터링)\n",
    "#그치만 라쏘보다는 피처필터링을 덜 엄격하게 함\n",
    "#라쏘보다 더 좋은 rmse를 도출"
   ]
  },
  {
   "cell_type": "code",
   "execution_count": 71,
   "id": "e039662e",
   "metadata": {},
   "outputs": [],
   "source": [
    "#트리기반 회귀\n",
    "# 결정트리 기반, 랜덤포레스트 기반, xgboost 기반, lightgbm 기반이 있음\n",
    "# 분류에서도 기능이 좋지만 회귀에서도 기능이 좋음\n",
    "from sklearn.tree import DecisionTreeRegressor\n",
    "from sklearn.ensemble import RandomForestRegressor\n",
    "from sklearn.ensemble import GradientBoostingRegressor\n",
    "from xgboost import XGBRegressor\n",
    "from lightgbm import LGBMRegressor\n",
    "\n",
    "dt_reg = DecisionTreeRegressor(random_state=0, max_depth=4)\n",
    "rf_reg = RandomForestRegressor(random_state=0, n_estimators=1000)\n",
    "gb_reg = GradientBoostingRegressor(random_state=0, n_estimators=1000)\n",
    "xgb_reg = XGBRegressor(n_estimators=1000)\n",
    "lgb_reg = LGBMRegressor(n_estimators=1000)"
   ]
  },
  {
   "cell_type": "code",
   "execution_count": null,
   "id": "a912c9a9",
   "metadata": {},
   "outputs": [
    {
     "name": "stdout",
     "output_type": "stream",
     "text": [
      "DecisionTreeRegressor 회귀 모델의 rmse 값: 163.27940410023842\n",
      "RandomForestRegressor 회귀 모델의 rmse 값: 141.64631565753422\n",
      "GradientBoostingRegressor 회귀 모델의 rmse 값: 146.4078856203862\n"
     ]
    }
   ],
   "source": [
    "#회귀트리 진짜 많이 쓰임 rmse가 되게 낮게 나와서\n",
    "#튜닝할 수 있는 방법도 많아서 성능을 더 높일 수 있음\n",
    "from sklearn.metrics import mean_squared_error\n",
    "\n",
    "models = [dt_reg, rf_reg, gb_reg, xgb_reg, lgb_reg]\n",
    "\n",
    "for model in models:\n",
    "    model.fit(X_train, y_train)\n",
    "    y_preds = model.predict(X_test)\n",
    "    \n",
    "    y_test_exp = np.expm1(y_test)\n",
    "    y_preds_exp = np.expm1(y_preds)\n",
    "    \n",
    "    mse = mean_squared_error(y_test_exp, y_preds_exp)\n",
    "    rmse = mse**(1/2)\n",
    "    \n",
    "    print(model.__class__.__name__,'회귀 모델의 rmse 값:', rmse)"
   ]
  }
 ],
 "metadata": {
  "kernelspec": {
   "display_name": "Python 3",
   "language": "python",
   "name": "python3"
  },
  "language_info": {
   "codemirror_mode": {
    "name": "ipython",
    "version": 3
   },
   "file_extension": ".py",
   "mimetype": "text/x-python",
   "name": "python",
   "nbconvert_exporter": "python",
   "pygments_lexer": "ipython3",
   "version": "3.8.8"
  }
 },
 "nbformat": 4,
 "nbformat_minor": 5
}
